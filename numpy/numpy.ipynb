{
 "cells": [
  {
   "cell_type": "code",
   "execution_count": 1,
   "metadata": {},
   "outputs": [
    {
     "name": "stdout",
     "output_type": "stream",
     "text": [
      "hello world\n"
     ]
    }
   ],
   "source": [
    "print(\"hello world\")"
   ]
  },
  {
   "cell_type": "code",
   "execution_count": 1,
   "metadata": {},
   "outputs": [],
   "source": [
    "import numpy as np "
   ]
  },
  {
   "cell_type": "code",
   "execution_count": 5,
   "metadata": {},
   "outputs": [
    {
     "data": {
      "text/plain": [
       "array([10, 20, 30, 40, 50])"
      ]
     },
     "execution_count": 5,
     "metadata": {},
     "output_type": "execute_result"
    }
   ],
   "source": [
    "arr = np.array([10,20,30,40,50])   # to create an array \n",
    "arr "
   ]
  },
  {
   "cell_type": "code",
   "execution_count": 6,
   "metadata": {},
   "outputs": [
    {
     "name": "stdout",
     "output_type": "stream",
     "text": [
      "<class 'numpy.ndarray'>\n"
     ]
    }
   ],
   "source": [
    "print(type(arr))"
   ]
  },
  {
   "cell_type": "code",
   "execution_count": 7,
   "metadata": {},
   "outputs": [
    {
     "data": {
      "text/plain": [
       "dtype('int64')"
      ]
     },
     "execution_count": 7,
     "metadata": {},
     "output_type": "execute_result"
    }
   ],
   "source": [
    "arr.dtype"
   ]
  },
  {
   "cell_type": "code",
   "execution_count": 9,
   "metadata": {},
   "outputs": [
    {
     "data": {
      "text/plain": [
       "array([10. , 20. , 30. , 40. , 50. , 20.2])"
      ]
     },
     "execution_count": 9,
     "metadata": {},
     "output_type": "execute_result"
    }
   ],
   "source": [
    "arr = np.array([10,20,30,40,50,20.2])   # to create an array \n",
    "arr "
   ]
  },
  {
   "cell_type": "code",
   "execution_count": 10,
   "metadata": {},
   "outputs": [
    {
     "data": {
      "text/plain": [
       "array(['10', '20', '30', '40', '50', 'Upflairs'], dtype='<U21')"
      ]
     },
     "execution_count": 10,
     "metadata": {},
     "output_type": "execute_result"
    }
   ],
   "source": [
    "arr = np.array([10,20,30,40,50,\"Upflairs\"])   # to create an array \n",
    "arr "
   ]
  },
  {
   "cell_type": "code",
   "execution_count": 13,
   "metadata": {},
   "outputs": [
    {
     "data": {
      "text/plain": [
       "1"
      ]
     },
     "execution_count": 13,
     "metadata": {},
     "output_type": "execute_result"
    }
   ],
   "source": [
    "arr.ndim    # dimension of array "
   ]
  },
  {
   "cell_type": "code",
   "execution_count": 14,
   "metadata": {},
   "outputs": [
    {
     "data": {
      "text/plain": [
       "array([[10, 20, 30, 40, 50],\n",
       "       [10, 20, 30, 40, 50],\n",
       "       [10, 20, 30, 40, 50],\n",
       "       [10, 20, 30, 40, 50]])"
      ]
     },
     "execution_count": 14,
     "metadata": {},
     "output_type": "execute_result"
    }
   ],
   "source": [
    "arr = np.array([[10,20,30,40,50],[10,20,30,40,50],[10,20,30,40,50],[10,20,30,40,50]])   # [ [1d] , [1d] , [1D] , [1D]  ]\n",
    "arr "
   ]
  },
  {
   "cell_type": "code",
   "execution_count": 18,
   "metadata": {},
   "outputs": [
    {
     "data": {
      "text/plain": [
       "array([[[10, 20, 30, 40, 50],\n",
       "        [10, 20, 30, 40, 50],\n",
       "        [10, 20, 30, 40, 50],\n",
       "        [10, 20, 30, 40, 50]],\n",
       "\n",
       "       [[10, 20, 30, 40, 50],\n",
       "        [10, 20, 30, 40, 50],\n",
       "        [10, 20, 30, 40, 50],\n",
       "        [10, 20, 30, 40, 50]],\n",
       "\n",
       "       [[10, 20, 30, 40, 50],\n",
       "        [10, 20, 30, 40, 50],\n",
       "        [10, 20, 30, 40, 50],\n",
       "        [10, 20, 30, 40, 50]],\n",
       "\n",
       "       [[10, 20, 30, 40, 50],\n",
       "        [10, 20, 30, 40, 50],\n",
       "        [10, 20, 30, 40, 50],\n",
       "        [10, 20, 30, 40, 50]]])"
      ]
     },
     "execution_count": 18,
     "metadata": {},
     "output_type": "execute_result"
    }
   ],
   "source": [
    "ls = [[[10, 20, 30, 40, 50],\n",
    "       [10, 20, 30, 40, 50],\n",
    "       [10, 20, 30, 40, 50],\n",
    "       [10, 20, 30, 40, 50]],\n",
    "       [[10, 20, 30, 40, 50],\n",
    "       [10, 20, 30, 40, 50],\n",
    "       [10, 20, 30, 40, 50],\n",
    "       [10, 20, 30, 40, 50]],\n",
    "       [[10, 20, 30, 40, 50],\n",
    "       [10, 20, 30, 40, 50],\n",
    "       [10, 20, 30, 40, 50],\n",
    "       [10, 20, 30, 40, 50]],\n",
    "       [[10, 20, 30, 40, 50],\n",
    "       [10, 20, 30, 40, 50],\n",
    "       [10, 20, 30, 40, 50],\n",
    "       [10, 20, 30, 40, 50]]]\n",
    "\n",
    "# print(ls)\n",
    "# print(type(ls))\n",
    "arr = np.array(ls)\n",
    "arr "
   ]
  },
  {
   "cell_type": "code",
   "execution_count": 19,
   "metadata": {},
   "outputs": [
    {
     "data": {
      "text/plain": [
       "numpy.ndarray"
      ]
     },
     "execution_count": 19,
     "metadata": {},
     "output_type": "execute_result"
    }
   ],
   "source": [
    "type(arr)"
   ]
  },
  {
   "cell_type": "code",
   "execution_count": 20,
   "metadata": {},
   "outputs": [
    {
     "data": {
      "text/plain": [
       "3"
      ]
     },
     "execution_count": 20,
     "metadata": {},
     "output_type": "execute_result"
    }
   ],
   "source": [
    "arr.ndim "
   ]
  },
  {
   "cell_type": "code",
   "execution_count": 3,
   "metadata": {},
   "outputs": [
    {
     "data": {
      "text/plain": [
       "array([10, 20, 30, 40, 50])"
      ]
     },
     "execution_count": 3,
     "metadata": {},
     "output_type": "execute_result"
    }
   ],
   "source": [
    "arr = np.array([10,20,30,40,50])   # to create an array \n",
    "arr "
   ]
  },
  {
   "cell_type": "code",
   "execution_count": 23,
   "metadata": {},
   "outputs": [
    {
     "data": {
      "text/plain": [
       "np.int64(40)"
      ]
     },
     "execution_count": 23,
     "metadata": {},
     "output_type": "execute_result"
    }
   ],
   "source": [
    "arr[-2]  # single item "
   ]
  },
  {
   "cell_type": "code",
   "execution_count": 27,
   "metadata": {},
   "outputs": [
    {
     "data": {
      "text/plain": [
       "array([10, 40])"
      ]
     },
     "execution_count": 27,
     "metadata": {},
     "output_type": "execute_result"
    }
   ],
   "source": [
    "arr[::3]"
   ]
  },
  {
   "cell_type": "code",
   "execution_count": 28,
   "metadata": {},
   "outputs": [
    {
     "data": {
      "text/plain": [
       "array([10, 20, 30, 40, 50])"
      ]
     },
     "execution_count": 28,
     "metadata": {},
     "output_type": "execute_result"
    }
   ],
   "source": [
    "arr[::1]"
   ]
  },
  {
   "cell_type": "code",
   "execution_count": 29,
   "metadata": {},
   "outputs": [
    {
     "data": {
      "text/plain": [
       "array([50, 40, 30, 20, 10])"
      ]
     },
     "execution_count": 29,
     "metadata": {},
     "output_type": "execute_result"
    }
   ],
   "source": [
    "arr[::-1]\n"
   ]
  },
  {
   "cell_type": "code",
   "execution_count": 4,
   "metadata": {},
   "outputs": [
    {
     "data": {
      "text/plain": [
       "array([10, 20, 30, 40, 50])"
      ]
     },
     "execution_count": 4,
     "metadata": {},
     "output_type": "execute_result"
    }
   ],
   "source": [
    "arr "
   ]
  },
  {
   "cell_type": "code",
   "execution_count": 5,
   "metadata": {},
   "outputs": [
    {
     "data": {
      "text/plain": [
       "array([[10, 20, 30, 40, 50],\n",
       "       [10, 20, 30, 40, 50],\n",
       "       [10, 20, 30, 40, 50],\n",
       "       [10, 20, 30, 40, 50]])"
      ]
     },
     "execution_count": 5,
     "metadata": {},
     "output_type": "execute_result"
    }
   ],
   "source": [
    "arr = np.array([[10,20,30,40,50],[10,20,30,40,50],[10,20,30,40,50],[10,20,30,40,50]])   # [ [1d] , [1d] , [1D] , [1D]  ]\n",
    "arr "
   ]
  },
  {
   "cell_type": "code",
   "execution_count": 6,
   "metadata": {},
   "outputs": [
    {
     "data": {
      "text/plain": [
       "array([[[ 6,  9, 29, 24],\n",
       "        [47, 32, 39, 46],\n",
       "        [36, 25, 41, 24],\n",
       "        [12,  2,  9,  6],\n",
       "        [14, 43, 37, 22]],\n",
       "\n",
       "       [[49, 21, 48,  6],\n",
       "        [12, 40, 32, 34],\n",
       "        [ 9,  2, 49, 13],\n",
       "        [46,  2,  7, 16],\n",
       "        [24, 37, 37, 29]],\n",
       "\n",
       "       [[32, 26, 26,  9],\n",
       "        [ 4, 32,  5,  9],\n",
       "        [26,  5, 14, 26],\n",
       "        [27, 25, 18, 47],\n",
       "        [ 5,  2, 22, 26]]], dtype=int32)"
      ]
     },
     "execution_count": 6,
     "metadata": {},
     "output_type": "execute_result"
    }
   ],
   "source": [
    "arr = np.random.randint(1,50,(3,5,4))  #  \n",
    "arr "
   ]
  },
  {
   "cell_type": "code",
   "execution_count": 8,
   "metadata": {},
   "outputs": [
    {
     "data": {
      "text/plain": [
       "array([11, 13, 14,  1,  9, 15, 17, 41,  8,  3], dtype=int32)"
      ]
     },
     "execution_count": 8,
     "metadata": {},
     "output_type": "execute_result"
    }
   ],
   "source": [
    "arr = np.random.randint(1,50,10)  # 1D array creating with randomly \n",
    "arr "
   ]
  },
  {
   "cell_type": "code",
   "execution_count": 11,
   "metadata": {},
   "outputs": [
    {
     "data": {
      "text/plain": [
       "array([[29,  6,  6, 42, 29, 14, 11, 32],\n",
       "       [ 5, 30, 36, 19,  4, 35, 37, 23],\n",
       "       [43, 49, 28, 23, 36, 21, 33, 37],\n",
       "       [24,  1, 12,  8, 17, 13, 22, 32],\n",
       "       [ 6, 41, 48,  6, 31, 12, 26, 20]], dtype=int32)"
      ]
     },
     "execution_count": 11,
     "metadata": {},
     "output_type": "execute_result"
    }
   ],
   "source": [
    "arr = np.random.randint(1,50,(5,8))  # 2D array creating with randomly \n",
    "arr "
   ]
  },
  {
   "cell_type": "code",
   "execution_count": 12,
   "metadata": {},
   "outputs": [
    {
     "data": {
      "text/plain": [
       "(5, 8)"
      ]
     },
     "execution_count": 12,
     "metadata": {},
     "output_type": "execute_result"
    }
   ],
   "source": [
    "arr.shape  "
   ]
  },
  {
   "cell_type": "code",
   "execution_count": 17,
   "metadata": {},
   "outputs": [
    {
     "data": {
      "text/plain": [
       "array([[[42, 23, 16],\n",
       "        [29, 24,  4],\n",
       "        [11,  7, 35],\n",
       "        [ 1, 15, 24]],\n",
       "\n",
       "       [[37, 28, 15],\n",
       "        [20,  3, 21],\n",
       "        [27, 20, 29],\n",
       "        [25,  9, 17]],\n",
       "\n",
       "       [[25, 11, 11],\n",
       "        [28,  8, 31],\n",
       "        [25, 48, 14],\n",
       "        [ 5, 41, 23]]], dtype=int32)"
      ]
     },
     "execution_count": 17,
     "metadata": {},
     "output_type": "execute_result"
    }
   ],
   "source": [
    "arr = np.random.randint(1,50,(3,4,3))  # 3D array creating with randomly \n",
    "arr "
   ]
  },
  {
   "cell_type": "code",
   "execution_count": 19,
   "metadata": {},
   "outputs": [
    {
     "data": {
      "text/plain": [
       "array([0.39032188, 0.50413509, 0.97666491, 0.28331004, 0.17945325,\n",
       "       0.55719043, 0.53923883, 0.84881171, 0.13958088, 0.06605548])"
      ]
     },
     "execution_count": 19,
     "metadata": {},
     "output_type": "execute_result"
    }
   ],
   "source": [
    "arr = np.random.random(10)\n",
    "arr \n",
    "# random  in btwn 0 - 1 , randomly initialize "
   ]
  },
  {
   "cell_type": "code",
   "execution_count": 20,
   "metadata": {},
   "outputs": [
    {
     "data": {
      "text/plain": [
       "array([[0.25816394, 0.58075813, 0.87812812, 0.49217009],\n",
       "       [0.69704626, 0.25792071, 0.81960321, 0.20464543],\n",
       "       [0.32365181, 0.72674162, 0.4085167 , 0.26799324],\n",
       "       [0.50260828, 0.95306626, 0.30395396, 0.55256371],\n",
       "       [0.91930127, 0.14853317, 0.13181526, 0.87397353]])"
      ]
     },
     "execution_count": 20,
     "metadata": {},
     "output_type": "execute_result"
    }
   ],
   "source": [
    "arr = np.random.random((5,4))\n",
    "arr "
   ]
  },
  {
   "cell_type": "code",
   "execution_count": 21,
   "metadata": {},
   "outputs": [
    {
     "data": {
      "text/plain": [
       "array([[[0.64792167, 0.76898922, 0.37820177, 0.77269022],\n",
       "        [0.23087093, 0.56862604, 0.89817592, 0.44206551],\n",
       "        [0.13450433, 0.6051332 , 0.87875556, 0.10321474],\n",
       "        [0.06357977, 0.12543041, 0.61358172, 0.21798282],\n",
       "        [0.69155179, 0.15854466, 0.35284685, 0.25241574]],\n",
       "\n",
       "       [[0.4448689 , 0.3481584 , 0.75289495, 0.49546332],\n",
       "        [0.2039677 , 0.64559687, 0.20869988, 0.23500596],\n",
       "        [0.88202084, 0.43720975, 0.55548523, 0.62499545],\n",
       "        [0.2547685 , 0.7048988 , 0.67811451, 0.36207991],\n",
       "        [0.42750897, 0.90668304, 0.19971133, 0.06711717]]])"
      ]
     },
     "execution_count": 21,
     "metadata": {},
     "output_type": "execute_result"
    }
   ],
   "source": [
    "arr = np.random.random((2,5,4))\n",
    "arr "
   ]
  },
  {
   "cell_type": "code",
   "execution_count": 24,
   "metadata": {},
   "outputs": [
    {
     "data": {
      "text/plain": [
       "array([ 1,  2,  3,  4,  5,  6,  7,  8,  9, 10])"
      ]
     },
     "execution_count": 24,
     "metadata": {},
     "output_type": "execute_result"
    }
   ],
   "source": [
    "arr = np.arange(1,11)  # it will create 1D array in a specified range \n",
    "arr "
   ]
  },
  {
   "cell_type": "code",
   "execution_count": 25,
   "metadata": {},
   "outputs": [
    {
     "data": {
      "text/plain": [
       "array([1., 1., 1., 1., 1.])"
      ]
     },
     "execution_count": 25,
     "metadata": {},
     "output_type": "execute_result"
    }
   ],
   "source": [
    "arr = np.ones(5)\n",
    "arr "
   ]
  },
  {
   "cell_type": "code",
   "execution_count": 28,
   "metadata": {},
   "outputs": [
    {
     "data": {
      "text/plain": [
       "array([[1., 1., 1., 1.],\n",
       "       [1., 1., 1., 1.],\n",
       "       [1., 1., 1., 1.],\n",
       "       [1., 1., 1., 1.],\n",
       "       [1., 1., 1., 1.]])"
      ]
     },
     "execution_count": 28,
     "metadata": {},
     "output_type": "execute_result"
    }
   ],
   "source": [
    "arr = np.ones((5,4))\n",
    "arr "
   ]
  },
  {
   "cell_type": "code",
   "execution_count": 29,
   "metadata": {},
   "outputs": [
    {
     "data": {
      "text/plain": [
       "array([[0., 0., 0., 0.],\n",
       "       [0., 0., 0., 0.],\n",
       "       [0., 0., 0., 0.],\n",
       "       [0., 0., 0., 0.],\n",
       "       [0., 0., 0., 0.]])"
      ]
     },
     "execution_count": 29,
     "metadata": {},
     "output_type": "execute_result"
    }
   ],
   "source": [
    "arr = np.zeros((5,4))\n",
    "arr "
   ]
  },
  {
   "cell_type": "code",
   "execution_count": 31,
   "metadata": {},
   "outputs": [
    {
     "data": {
      "text/plain": [
       "array([[0, 0, 0, 0],\n",
       "       [0, 0, 0, 0],\n",
       "       [0, 0, 0, 0],\n",
       "       [0, 0, 0, 0],\n",
       "       [0, 0, 0, 0]])"
      ]
     },
     "execution_count": 31,
     "metadata": {},
     "output_type": "execute_result"
    }
   ],
   "source": [
    "arr.astype(int)"
   ]
  },
  {
   "cell_type": "code",
   "execution_count": 32,
   "metadata": {},
   "outputs": [
    {
     "data": {
      "text/plain": [
       "dtype('float64')"
      ]
     },
     "execution_count": 32,
     "metadata": {},
     "output_type": "execute_result"
    }
   ],
   "source": [
    "arr.dtype"
   ]
  },
  {
   "cell_type": "code",
   "execution_count": 33,
   "metadata": {},
   "outputs": [
    {
     "data": {
      "text/plain": [
       "array([ 1.  ,  3.25,  5.5 ,  7.75, 10.  ])"
      ]
     },
     "execution_count": 33,
     "metadata": {},
     "output_type": "execute_result"
    }
   ],
   "source": [
    "arr = np.linspace(1,10,5)\n",
    "arr "
   ]
  },
  {
   "cell_type": "code",
   "execution_count": 36,
   "metadata": {},
   "outputs": [
    {
     "data": {
      "text/plain": [
       "array([ 8,  6,  4, 11, 11,  4, 10, 10,  7,  3], dtype=int32)"
      ]
     },
     "execution_count": 36,
     "metadata": {},
     "output_type": "execute_result"
    }
   ],
   "source": [
    "arr = np.random.randint(1,12,10)\n",
    "arr "
   ]
  },
  {
   "cell_type": "code",
   "execution_count": 37,
   "metadata": {},
   "outputs": [
    {
     "data": {
      "text/plain": [
       "np.int64(74)"
      ]
     },
     "execution_count": 37,
     "metadata": {},
     "output_type": "execute_result"
    }
   ],
   "source": [
    "np.sum(arr)"
   ]
  },
  {
   "cell_type": "code",
   "execution_count": 50,
   "metadata": {},
   "outputs": [
    {
     "data": {
      "text/plain": [
       "np.float64(2.90516780926679)"
      ]
     },
     "execution_count": 50,
     "metadata": {},
     "output_type": "execute_result"
    }
   ],
   "source": [
    "## aggregation function \n",
    "variance = arr.var()  # std()    #var()     #mean()    # mean ==average ,  #sum()     #max()   #min()\n",
    "np.sqrt(variance)"
   ]
  },
  {
   "cell_type": "code",
   "execution_count": 52,
   "metadata": {},
   "outputs": [
    {
     "data": {
      "text/plain": [
       "np.int64(8)"
      ]
     },
     "execution_count": 52,
     "metadata": {},
     "output_type": "execute_result"
    }
   ],
   "source": [
    "np.power(2,3)"
   ]
  },
  {
   "cell_type": "code",
   "execution_count": 55,
   "metadata": {},
   "outputs": [
    {
     "name": "stdout",
     "output_type": "stream",
     "text": [
      "[ 8  6  4 11 11  4 10 10  7  3]\n",
      "[ 8 14 18 29 40 44 54 64 71 74]\n"
     ]
    }
   ],
   "source": [
    "print(arr)\n",
    "print(np.cumsum(arr))  # cumulative sum "
   ]
  },
  {
   "cell_type": "code",
   "execution_count": null,
   "metadata": {},
   "outputs": [],
   "source": [
    "arr.sort()  # ascending order "
   ]
  },
  {
   "cell_type": "code",
   "execution_count": 58,
   "metadata": {},
   "outputs": [
    {
     "data": {
      "text/plain": [
       "array([ 3,  4,  4,  6,  7,  8, 10, 10, 11, 11], dtype=int32)"
      ]
     },
     "execution_count": 58,
     "metadata": {},
     "output_type": "execute_result"
    }
   ],
   "source": [
    "arr "
   ]
  },
  {
   "cell_type": "code",
   "execution_count": 59,
   "metadata": {},
   "outputs": [
    {
     "data": {
      "text/plain": [
       "array([11, 11, 10, 10,  8,  7,  6,  4,  4,  3], dtype=int32)"
      ]
     },
     "execution_count": 59,
     "metadata": {},
     "output_type": "execute_result"
    }
   ],
   "source": [
    "arr[::-1]  # descending order "
   ]
  },
  {
   "cell_type": "code",
   "execution_count": 60,
   "metadata": {},
   "outputs": [
    {
     "data": {
      "text/plain": [
       "array([10,  4,  6,  2,  1,  1,  6, 11,  8,  5], dtype=int32)"
      ]
     },
     "execution_count": 60,
     "metadata": {},
     "output_type": "execute_result"
    }
   ],
   "source": [
    "arr = np.random.randint(1,12,10)\n",
    "arr "
   ]
  },
  {
   "cell_type": "code",
   "execution_count": null,
   "metadata": {},
   "outputs": [],
   "source": [
    "arr[2] = 60  # to update the items "
   ]
  },
  {
   "cell_type": "code",
   "execution_count": 66,
   "metadata": {},
   "outputs": [
    {
     "data": {
      "text/plain": [
       "array([10,  4, 60,  2,  1,  1,  6, 11,  8,  5], dtype=int32)"
      ]
     },
     "execution_count": 66,
     "metadata": {},
     "output_type": "execute_result"
    }
   ],
   "source": [
    "arr "
   ]
  },
  {
   "cell_type": "code",
   "execution_count": 67,
   "metadata": {},
   "outputs": [],
   "source": [
    "arr[1:3] = 100"
   ]
  },
  {
   "cell_type": "code",
   "execution_count": 68,
   "metadata": {},
   "outputs": [
    {
     "data": {
      "text/plain": [
       "array([ 10, 100, 100,   2,   1,   1,   6,  11,   8,   5], dtype=int32)"
      ]
     },
     "execution_count": 68,
     "metadata": {},
     "output_type": "execute_result"
    }
   ],
   "source": [
    "arr "
   ]
  },
  {
   "cell_type": "code",
   "execution_count": 69,
   "metadata": {},
   "outputs": [
    {
     "data": {
      "text/plain": [
       "array([ 10, 100, 100,   2,   1,   1,   6,  11,   8,   5], dtype=int32)"
      ]
     },
     "execution_count": 69,
     "metadata": {},
     "output_type": "execute_result"
    }
   ],
   "source": [
    "arr "
   ]
  },
  {
   "cell_type": "code",
   "execution_count": 70,
   "metadata": {},
   "outputs": [
    {
     "data": {
      "text/plain": [
       "array([8, 7, 9])"
      ]
     },
     "execution_count": 70,
     "metadata": {},
     "output_type": "execute_result"
    }
   ],
   "source": [
    "arr = np.array([8,7,9])\n",
    "arr "
   ]
  },
  {
   "cell_type": "code",
   "execution_count": 74,
   "metadata": {},
   "outputs": [
    {
     "data": {
      "text/plain": [
       "array([1, 0, 2])"
      ]
     },
     "execution_count": 74,
     "metadata": {},
     "output_type": "execute_result"
    }
   ],
   "source": [
    "arr.argsort()      #argmax()    #argmin()"
   ]
  },
  {
   "cell_type": "code",
   "execution_count": 75,
   "metadata": {},
   "outputs": [
    {
     "data": {
      "text/plain": [
       "array([[[43, 31, 20, 43],\n",
       "        [16,  6, 29, 23],\n",
       "        [48, 36,  5,  5],\n",
       "        [45, 48, 46, 13],\n",
       "        [29, 27, 46, 17]],\n",
       "\n",
       "       [[37, 25,  7, 38],\n",
       "        [18, 26, 25, 16],\n",
       "        [11, 12,  5, 42],\n",
       "        [ 5, 11, 44, 43],\n",
       "        [41, 40, 49, 41]],\n",
       "\n",
       "       [[47, 25,  5, 25],\n",
       "        [20, 26, 42,  1],\n",
       "        [15,  1, 23, 15],\n",
       "        [47, 49, 49, 47],\n",
       "        [37, 29, 16, 27]]], dtype=int32)"
      ]
     },
     "execution_count": 75,
     "metadata": {},
     "output_type": "execute_result"
    }
   ],
   "source": [
    "arr = np.random.randint(1,50,(3,5,4))\n",
    "arr "
   ]
  },
  {
   "cell_type": "code",
   "execution_count": 79,
   "metadata": {},
   "outputs": [
    {
     "data": {
      "text/plain": [
       "array([43, 31, 20, 43, 16,  6, 29, 23, 48, 36,  5,  5, 45, 48, 46, 13, 29,\n",
       "       27, 46, 17, 37, 25,  7, 38, 18, 26, 25, 16, 11, 12,  5, 42,  5, 11,\n",
       "       44, 43, 41, 40, 49, 41, 47, 25,  5, 25, 20, 26, 42,  1, 15,  1, 23,\n",
       "       15, 47, 49, 49, 47, 37, 29, 16, 27], dtype=int32)"
      ]
     },
     "execution_count": 79,
     "metadata": {},
     "output_type": "execute_result"
    }
   ],
   "source": [
    "arr.ravel()   # convert into 1D "
   ]
  },
  {
   "cell_type": "code",
   "execution_count": 81,
   "metadata": {},
   "outputs": [
    {
     "data": {
      "text/plain": [
       "array([43, 31, 20, 43, 16,  6, 29, 23, 48, 36,  5,  5, 45, 48, 46, 13, 29,\n",
       "       27, 46, 17, 37, 25,  7, 38, 18, 26, 25, 16, 11, 12,  5, 42,  5, 11,\n",
       "       44, 43, 41, 40, 49, 41, 47, 25,  5, 25, 20, 26, 42,  1, 15,  1, 23,\n",
       "       15, 47, 49, 49, 47, 37, 29, 16, 27], dtype=int32)"
      ]
     },
     "execution_count": 81,
     "metadata": {},
     "output_type": "execute_result"
    }
   ],
   "source": [
    "arr.flatten()"
   ]
  },
  {
   "cell_type": "code",
   "execution_count": 89,
   "metadata": {},
   "outputs": [
    {
     "data": {
      "text/plain": [
       "array([43, 31, 20, 43, 16,  6, 29, 23, 48, 36,  5,  5, 45, 48, 46, 13, 29,\n",
       "       27, 46, 17, 37, 25,  7, 38, 18, 26, 25, 16, 11, 12,  5, 42,  5, 11,\n",
       "       44, 43, 41, 40, 49, 41, 47, 25,  5, 25, 20, 26, 42,  1, 15,  1, 23,\n",
       "       15, 47, 49, 49, 47, 37, 29, 16, 27], dtype=int32)"
      ]
     },
     "execution_count": 89,
     "metadata": {},
     "output_type": "execute_result"
    }
   ],
   "source": [
    "arr.reshape(60) #   3*5*4 = 60 "
   ]
  },
  {
   "cell_type": "code",
   "execution_count": 88,
   "metadata": {},
   "outputs": [
    {
     "data": {
      "text/plain": [
       "60"
      ]
     },
     "execution_count": 88,
     "metadata": {},
     "output_type": "execute_result"
    }
   ],
   "source": [
    "arr.size   # total no, of items "
   ]
  },
  {
   "cell_type": "code",
   "execution_count": 90,
   "metadata": {},
   "outputs": [
    {
     "data": {
      "text/plain": [
       "array([[43, 31, 20, 43, 16,  6],\n",
       "       [29, 23, 48, 36,  5,  5],\n",
       "       [45, 48, 46, 13, 29, 27],\n",
       "       [46, 17, 37, 25,  7, 38],\n",
       "       [18, 26, 25, 16, 11, 12],\n",
       "       [ 5, 42,  5, 11, 44, 43],\n",
       "       [41, 40, 49, 41, 47, 25],\n",
       "       [ 5, 25, 20, 26, 42,  1],\n",
       "       [15,  1, 23, 15, 47, 49],\n",
       "       [49, 47, 37, 29, 16, 27]], dtype=int32)"
      ]
     },
     "execution_count": 90,
     "metadata": {},
     "output_type": "execute_result"
    }
   ],
   "source": [
    "arr.reshape(10,6)"
   ]
  },
  {
   "cell_type": "code",
   "execution_count": 94,
   "metadata": {},
   "outputs": [
    {
     "ename": "ValueError",
     "evalue": "cannot reshape array of size 60 into shape (20,4)",
     "output_type": "error",
     "traceback": [
      "\u001b[1;31m---------------------------------------------------------------------------\u001b[0m",
      "\u001b[1;31mValueError\u001b[0m                                Traceback (most recent call last)",
      "Cell \u001b[1;32mIn[94], line 1\u001b[0m\n\u001b[1;32m----> 1\u001b[0m \u001b[43marr\u001b[49m\u001b[38;5;241;43m.\u001b[39;49m\u001b[43mreshape\u001b[49m\u001b[43m(\u001b[49m\u001b[38;5;241;43m20\u001b[39;49m\u001b[43m,\u001b[49m\u001b[38;5;241;43m4\u001b[39;49m\u001b[43m)\u001b[49m  \u001b[38;5;66;03m# resize()\u001b[39;00m\n",
      "\u001b[1;31mValueError\u001b[0m: cannot reshape array of size 60 into shape (20,4)"
     ]
    }
   ],
   "source": [
    "arr.reshape(20,4)  # resize()"
   ]
  },
  {
   "cell_type": "code",
   "execution_count": 96,
   "metadata": {},
   "outputs": [
    {
     "data": {
      "text/plain": [
       "array([[43, 31, 20, 43],\n",
       "       [16,  6, 29, 23],\n",
       "       [48, 36,  5,  5],\n",
       "       [45, 48, 46, 13],\n",
       "       [29, 27, 46, 17],\n",
       "       [37, 25,  7, 38],\n",
       "       [18, 26, 25, 16],\n",
       "       [11, 12,  5, 42],\n",
       "       [ 5, 11, 44, 43],\n",
       "       [41, 40, 49, 41],\n",
       "       [47, 25,  5, 25],\n",
       "       [20, 26, 42,  1],\n",
       "       [15,  1, 23, 15],\n",
       "       [47, 49, 49, 47],\n",
       "       [37, 29, 16, 27],\n",
       "       [43, 31, 20, 43],\n",
       "       [16,  6, 29, 23],\n",
       "       [48, 36,  5,  5],\n",
       "       [45, 48, 46, 13],\n",
       "       [29, 27, 46, 17]], dtype=int32)"
      ]
     },
     "execution_count": 96,
     "metadata": {},
     "output_type": "execute_result"
    }
   ],
   "source": [
    "np.resize(arr,(20,4))   # duplicates "
   ]
  },
  {
   "cell_type": "code",
   "execution_count": 97,
   "metadata": {},
   "outputs": [
    {
     "data": {
      "text/plain": [
       "array([ 8,  5,  2,  6,  5,  8,  4, 11,  4, 11,  1], dtype=int32)"
      ]
     },
     "execution_count": 97,
     "metadata": {},
     "output_type": "execute_result"
    }
   ],
   "source": [
    "arr = np.random.randint(1,12,11)\n",
    "arr "
   ]
  },
  {
   "cell_type": "code",
   "execution_count": 101,
   "metadata": {},
   "outputs": [
    {
     "data": {
      "text/plain": [
       "array([[12, 20, 46],\n",
       "       [30, 36, 12],\n",
       "       [ 8,  3,  6],\n",
       "       [ 2,  4, 34],\n",
       "       [16, 42, 36]], dtype=int32)"
      ]
     },
     "execution_count": 101,
     "metadata": {},
     "output_type": "execute_result"
    }
   ],
   "source": [
    "arr = np.random.randint(1,50,(5,3))\n",
    "arr "
   ]
  },
  {
   "cell_type": "code",
   "execution_count": 102,
   "metadata": {},
   "outputs": [
    {
     "data": {
      "text/plain": [
       "array([[12, 30,  8,  2, 16],\n",
       "       [20, 36,  3,  4, 42],\n",
       "       [46, 12,  6, 34, 36]], dtype=int32)"
      ]
     },
     "execution_count": 102,
     "metadata": {},
     "output_type": "execute_result"
    }
   ],
   "source": [
    "np.transpose(arr)   # are same ==>   arr.T   "
   ]
  },
  {
   "cell_type": "code",
   "execution_count": 104,
   "metadata": {},
   "outputs": [
    {
     "data": {
      "text/plain": [
       "array([[12, 30,  8,  2, 16],\n",
       "       [20, 36,  3,  4, 42],\n",
       "       [46, 12,  6, 34, 36]], dtype=int32)"
      ]
     },
     "execution_count": 104,
     "metadata": {},
     "output_type": "execute_result"
    }
   ],
   "source": [
    "arr.T    # transpose "
   ]
  },
  {
   "cell_type": "code",
   "execution_count": 106,
   "metadata": {},
   "outputs": [
    {
     "name": "stdout",
     "output_type": "stream",
     "text": [
      "[42 10 20 27 29 14 44 36 25  4]\n",
      "[44 12 22 29 31 16 46 38 27  6]\n"
     ]
    }
   ],
   "source": [
    "## metrics operation \n",
    "arr = np.random.randint(1,50,10)\n",
    "print(arr )\n",
    "print(arr + 2 )"
   ]
  },
  {
   "cell_type": "code",
   "execution_count": 107,
   "metadata": {},
   "outputs": [
    {
     "name": "stdout",
     "output_type": "stream",
     "text": [
      "[42 10 20 27 29 14 44 36 25  4]\n",
      "[84 20 40 54 58 28 88 72 50  8]\n"
     ]
    }
   ],
   "source": [
    "print(arr)\n",
    "print(arr * 2)"
   ]
  },
  {
   "cell_type": "code",
   "execution_count": 114,
   "metadata": {},
   "outputs": [
    {
     "name": "stdout",
     "output_type": "stream",
     "text": [
      "[10 20 30 40]\n",
      "[5 5 5 5]\n"
     ]
    }
   ],
   "source": [
    "arr1 = np.array([10,20,30,40])\n",
    "arr2 = np.array([5,5,5,5])\n",
    "print(arr1)\n",
    "print(arr2)"
   ]
  },
  {
   "cell_type": "code",
   "execution_count": 116,
   "metadata": {},
   "outputs": [
    {
     "name": "stdout",
     "output_type": "stream",
     "text": [
      "[10 20 30 40]\n",
      "[5 5 5 5]\n",
      "[15 25 35 45]\n"
     ]
    }
   ],
   "source": [
    "print(arr1)\n",
    "print(arr2)\n",
    "print(arr1 + arr2) "
   ]
  },
  {
   "cell_type": "code",
   "execution_count": 3,
   "metadata": {},
   "outputs": [
    {
     "data": {
      "text/plain": [
       "array([ 24, 101,  50,  33,  32, 158,  76, 198, 124,  99,  36, 193, 198,\n",
       "       150, 114, 178, 150, 168, 142, 130,  89, 193, 155, 136, 154, 168,\n",
       "       143,  14, 178,  90, 117,  92, 150,  84,  29,  92, 115, 190,  29,\n",
       "       174,  72,  32, 198,  74, 156,  19,  24, 135, 196, 102,  60, 149,\n",
       "         5,  46,  31, 125, 126, 104, 105,  16,  52,  23,  63,   3,  76,\n",
       "       195, 194,   5,  66,  34, 161, 103,  36,  41,  74,  32,  83, 109,\n",
       "        11, 120, 125, 133, 181, 122, 184,  61,  18, 122, 196, 134, 182,\n",
       "        88,  18, 193, 148, 131, 189, 149, 150,  83,  82,  95,  35,  38,\n",
       "        45,  34,  19, 139, 131,  89,  37,  56, 123, 150, 141, 119,  62,\n",
       "        61, 168, 121, 110, 123, 137, 167,  87,  46,  82, 146, 175,  96,\n",
       "       196, 165,  47,  23,   1,  43, 178, 143, 106, 117, 125, 141, 185,\n",
       "        31,  48,  55,  78, 151,  40, 119, 154, 165,  30,  51,  21,  42,\n",
       "        26, 163,  79, 148, 184, 103, 143, 151, 173,  64,  66, 190,  54,\n",
       "        20, 188, 187,  49, 185, 180,  60, 115,  42,  66, 125, 189, 110,\n",
       "       182, 181, 158,  24, 192, 112,  29, 184, 147, 101,  24, 110, 145,\n",
       "        43, 143, 176,  59,  87], dtype=int32)"
      ]
     },
     "execution_count": 3,
     "metadata": {},
     "output_type": "execute_result"
    }
   ],
   "source": [
    "arr = np.random.randint(1,200,200)\n",
    "arr "
   ]
  },
  {
   "cell_type": "code",
   "execution_count": 6,
   "metadata": {},
   "outputs": [
    {
     "name": "stdout",
     "output_type": "stream",
     "text": [
      "[24, 50, 33, 32, 76, 99, 36, 89, 14, 90, 92, 84, 29, 92, 29, 72, 32, 74, 19, 24, 60, 5, 46, 31, 16, 52, 23, 63, 3, 76, 5, 66, 34, 36, 41, 74, 32, 83, 11, 61, 18, 88, 18, 83, 82, 95, 35, 38, 45, 34, 19, 89, 37, 56, 62, 61, 87, 46, 82, 96, 47, 23, 1, 43, 31, 48, 55, 78, 40, 30, 51, 21, 42, 26, 79, 64, 66, 54, 20, 49, 60, 42, 66, 24, 29, 24, 43, 59, 87]\n",
      "89\n"
     ]
    }
   ],
   "source": [
    "temp = []\n",
    "for item in arr:\n",
    "    if item < 100 :\n",
    "        temp.append(int(item))\n",
    "print(temp)\n",
    "print(len(temp))    "
   ]
  },
  {
   "cell_type": "code",
   "execution_count": 10,
   "metadata": {},
   "outputs": [
    {
     "data": {
      "text/plain": [
       "array([101, 158, 198, 124, 193, 198, 150, 114, 178, 150, 168, 142, 130,\n",
       "       193, 155, 136, 154, 168, 143, 178, 117, 150, 115, 190, 174, 198,\n",
       "       156, 135, 196, 102, 149, 125, 126, 104, 105, 195, 194, 161, 103,\n",
       "       109, 120, 125, 133, 181, 122, 184, 122, 196, 134, 182, 193, 148,\n",
       "       131, 189, 149, 150, 139, 131, 123, 150, 141, 119, 168, 121, 110,\n",
       "       123, 137, 167, 146, 175, 196, 165, 178, 143, 106, 117, 125, 141,\n",
       "       185, 151, 119, 154, 165, 163, 148, 184, 103, 143, 151, 173, 190,\n",
       "       188, 187, 185, 180, 115, 125, 189, 110, 182, 181, 158, 192, 112,\n",
       "       184, 147, 101, 110, 145, 143, 176], dtype=int32)"
      ]
     },
     "execution_count": 10,
     "metadata": {},
     "output_type": "execute_result"
    }
   ],
   "source": [
    "arr[arr > 100]    # try with multiple "
   ]
  },
  {
   "cell_type": "code",
   "execution_count": 14,
   "metadata": {},
   "outputs": [
    {
     "data": {
      "text/plain": [
       "(array([ 2, 10, 11, 15]),)"
      ]
     },
     "execution_count": 14,
     "metadata": {},
     "output_type": "execute_result"
    }
   ],
   "source": [
    "arr = np.random.randint(1,40,20)\n",
    "np.where(arr<10)  # data  filter "
   ]
  },
  {
   "cell_type": "code",
   "execution_count": 15,
   "metadata": {},
   "outputs": [
    {
     "data": {
      "text/plain": [
       "array([29, 19,  4, 31, 23, 25, 36, 37, 33, 34,  1,  4, 38, 26, 27,  2, 18,\n",
       "       17, 20, 38], dtype=int32)"
      ]
     },
     "execution_count": 15,
     "metadata": {},
     "output_type": "execute_result"
    }
   ],
   "source": [
    "arr "
   ]
  },
  {
   "cell_type": "code",
   "execution_count": 16,
   "metadata": {},
   "outputs": [
    {
     "name": "stdout",
     "output_type": "stream",
     "text": [
      "[ 2 10 11 17 13]\n",
      "[11  8 11 11 12]\n"
     ]
    }
   ],
   "source": [
    "arr1 = np.random.randint(1,20,5)\n",
    "arr2 = np.random.randint(1,20,5)\n",
    "print(arr1)\n",
    "print(arr2)"
   ]
  },
  {
   "cell_type": "code",
   "execution_count": 19,
   "metadata": {},
   "outputs": [
    {
     "data": {
      "text/plain": [
       "array([ 2, 10, 11, 17, 13, 11,  8, 11, 11, 12], dtype=int32)"
      ]
     },
     "execution_count": 19,
     "metadata": {},
     "output_type": "execute_result"
    }
   ],
   "source": [
    "arr3 = np.concatenate((arr1,arr2))\n",
    "arr3"
   ]
  },
  {
   "cell_type": "code",
   "execution_count": 29,
   "metadata": {},
   "outputs": [
    {
     "name": "stdout",
     "output_type": "stream",
     "text": [
      "[[13 11  2  9]\n",
      " [19  7 13 16]\n",
      " [14  1 17  7]\n",
      " [ 9 11  7 11]\n",
      " [19 13  6  1]]\n",
      "\n",
      "[[ 9]\n",
      " [15]\n",
      " [ 9]\n",
      " [14]\n",
      " [17]]\n"
     ]
    }
   ],
   "source": [
    "# 2D + 2D \n",
    "arr1 = np.random.randint(1,20,(5,4))\n",
    "arr2 = np.random.randint(1,20,(5,1))\n",
    "print(arr1)\n",
    "print()\n",
    "print(arr2)"
   ]
  },
  {
   "cell_type": "code",
   "execution_count": 30,
   "metadata": {},
   "outputs": [
    {
     "data": {
      "text/plain": [
       "array([[13, 11,  2,  9,  9],\n",
       "       [19,  7, 13, 16, 15],\n",
       "       [14,  1, 17,  7,  9],\n",
       "       [ 9, 11,  7, 11, 14],\n",
       "       [19, 13,  6,  1, 17]], dtype=int32)"
      ]
     },
     "execution_count": 30,
     "metadata": {},
     "output_type": "execute_result"
    }
   ],
   "source": [
    "np.concatenate((arr1,arr2),axis=1)"
   ]
  },
  {
   "cell_type": "code",
   "execution_count": 35,
   "metadata": {},
   "outputs": [
    {
     "name": "stdout",
     "output_type": "stream",
     "text": [
      "[[16  6  9  4]\n",
      " [11 14 16 15]\n",
      " [11 10  8  9]\n",
      " [ 8 14 11  1]\n",
      " [ 1 15  8 12]]\n",
      "\n",
      "[[ 5]\n",
      " [11]\n",
      " [11]\n",
      " [18]]\n"
     ]
    }
   ],
   "source": [
    "arr1 = np.random.randint(1,20,(5,4))\n",
    "arr2 = np.random.randint(1,20,(4,1))\n",
    "print(arr1)\n",
    "print()\n",
    "print(arr2)"
   ]
  },
  {
   "cell_type": "code",
   "execution_count": 38,
   "metadata": {},
   "outputs": [
    {
     "data": {
      "text/plain": [
       "array([[16,  6,  9,  4],\n",
       "       [11, 14, 16, 15],\n",
       "       [11, 10,  8,  9],\n",
       "       [ 8, 14, 11,  1],\n",
       "       [ 1, 15,  8, 12],\n",
       "       [ 5, 11, 11, 18]], dtype=int32)"
      ]
     },
     "execution_count": 38,
     "metadata": {},
     "output_type": "execute_result"
    }
   ],
   "source": [
    "np.concatenate((arr1,arr2.T),axis=0)"
   ]
  },
  {
   "cell_type": "code",
   "execution_count": 39,
   "metadata": {},
   "outputs": [
    {
     "name": "stdout",
     "output_type": "stream",
     "text": [
      "[[17 11  3 19]\n",
      " [10 13 16  5]\n",
      " [ 8  9 17  9]\n",
      " [ 1  5  3 19]\n",
      " [10 17  5 19]]\n",
      "\n",
      "[ 4 10 13 11]\n"
     ]
    }
   ],
   "source": [
    "# 2D + 1D \n",
    "arr1 = np.random.randint(1,20,(5,4))\n",
    "arr2 = np.random.randint(1,20,4)\n",
    "print(arr1)\n",
    "print()\n",
    "print(arr2)"
   ]
  },
  {
   "cell_type": "code",
   "execution_count": 40,
   "metadata": {},
   "outputs": [
    {
     "data": {
      "text/plain": [
       "((5, 4), (4,))"
      ]
     },
     "execution_count": 40,
     "metadata": {},
     "output_type": "execute_result"
    }
   ],
   "source": [
    "arr1.shape , arr2.shape "
   ]
  },
  {
   "cell_type": "code",
   "execution_count": 43,
   "metadata": {},
   "outputs": [
    {
     "data": {
      "text/plain": [
       "array([[17, 11,  3, 19],\n",
       "       [10, 13, 16,  5],\n",
       "       [ 8,  9, 17,  9],\n",
       "       [ 1,  5,  3, 19],\n",
       "       [10, 17,  5, 19],\n",
       "       [ 4, 10, 13, 11]], dtype=int32)"
      ]
     },
     "execution_count": 43,
     "metadata": {},
     "output_type": "execute_result"
    }
   ],
   "source": [
    "np.vstack((arr1,arr2))\n"
   ]
  },
  {
   "cell_type": "code",
   "execution_count": null,
   "metadata": {},
   "outputs": [],
   "source": [
    "np.vsplit()\n",
    "np.hsplit() "
   ]
  }
 ],
 "metadata": {
  "kernelspec": {
   "display_name": "Python 3",
   "language": "python",
   "name": "python3"
  },
  "language_info": {
   "codemirror_mode": {
    "name": "ipython",
    "version": 3
   },
   "file_extension": ".py",
   "mimetype": "text/x-python",
   "name": "python",
   "nbconvert_exporter": "python",
   "pygments_lexer": "ipython3",
   "version": "3.12.4"
  }
 },
 "nbformat": 4,
 "nbformat_minor": 2
}
