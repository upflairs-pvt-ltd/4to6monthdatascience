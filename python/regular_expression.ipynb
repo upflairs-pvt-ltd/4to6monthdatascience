{
 "cells": [
  {
   "cell_type": "code",
   "execution_count": null,
   "metadata": {},
   "outputs": [],
   "source": [
    "# regular expression : pattern \n",
    "import re "
   ]
  },
  {
   "cell_type": "code",
   "execution_count": 7,
   "metadata": {},
   "outputs": [
    {
     "name": "stdout",
     "output_type": "stream",
     "text": [
      "<re.Match object; span=(11, 14), match='pvt'>\n"
     ]
    }
   ],
   "source": [
    "st = \"upflairs 0 pvt 25 ltd pvt jaipur 8 rajasthan 302033\"\n",
    "match = re.search('pvt',st)\n",
    "print(match)\n"
   ]
  },
  {
   "cell_type": "code",
   "execution_count": 8,
   "metadata": {},
   "outputs": [
    {
     "name": "stdout",
     "output_type": "stream",
     "text": [
      "pvt\n"
     ]
    }
   ],
   "source": [
    "st = \"upflairs 0 pvt 25 ltd pvt jaipur 8 rajasthan 302033\"\n",
    "match = re.search('pvt',st)\n",
    "print(match.group())\n"
   ]
  },
  {
   "cell_type": "code",
   "execution_count": 9,
   "metadata": {},
   "outputs": [
    {
     "name": "stdout",
     "output_type": "stream",
     "text": [
      "['pvt', 'pvt']\n"
     ]
    }
   ],
   "source": [
    "st = \"upflairs 0 pvt 25 ltd pvt jaipur 8 rajasthan 302033\"\n",
    "match = re.findall('pvt',st)\n",
    "print(match)"
   ]
  },
  {
   "cell_type": "code",
   "execution_count": 20,
   "metadata": {},
   "outputs": [
    {
     "data": {
      "text/plain": [
       "['upflairs 0 pvt ', ' ltd pvt jaipur 8 rajasthan @Delhi 302033']"
      ]
     },
     "execution_count": 20,
     "metadata": {},
     "output_type": "execute_result"
    }
   ],
   "source": [
    "st = \"upflairs 0 pvt 25 ltd pvt jaipur 8 rajasthan @Delhi 302033\"\n",
    "re.split(\"25\",st) \n",
    "# st.split(\"25\")"
   ]
  },
  {
   "cell_type": "code",
   "execution_count": 17,
   "metadata": {},
   "outputs": [
    {
     "data": {
      "text/plain": [
       "'upflairs 0 pvt 25 ltd pvt jaipur 8 rajasthan  '"
      ]
     },
     "execution_count": 17,
     "metadata": {},
     "output_type": "execute_result"
    }
   ],
   "source": [
    "st.replace('302033',' ')"
   ]
  },
  {
   "cell_type": "code",
   "execution_count": 21,
   "metadata": {},
   "outputs": [
    {
     "name": "stdout",
     "output_type": "stream",
     "text": [
      "upflairs 0 pvt 25 ltd pvt jaipur 8 rajasthan @Delhi 302033\n",
      "upflairs   pvt    ltd pvt jaipur   rajasthan  Delhi       \n"
     ]
    }
   ],
   "source": [
    "print(st)\n",
    "print(re.sub('[^a-zA-z ]',' ',st))"
   ]
  },
  {
   "cell_type": "code",
   "execution_count": 22,
   "metadata": {},
   "outputs": [
    {
     "name": "stdout",
     "output_type": "stream",
     "text": [
      "upflairs 0 pvt 25 ltd pvt jaipur 8 rajasthan @Delhi 302033\n",
      "upflairs 0   25 ltd   jaipur 8 rajasthan @Delhi 302033\n"
     ]
    }
   ],
   "source": [
    "print(st)\n",
    "print(re.sub('pvt',' ',st))"
   ]
  },
  {
   "cell_type": "code",
   "execution_count": 32,
   "metadata": {},
   "outputs": [
    {
     "name": "stdout",
     "output_type": "stream",
     "text": [
      "upflairs 0 pvt 25 ltd pvt jaipur 8 rajasthan @Abhimanyu 302033\n"
     ]
    },
    {
     "data": {
      "text/plain": [
       "['p', 'p', 'v', 't', 't', 'p', 'v', 't', 'p', 't']"
      ]
     },
     "execution_count": 32,
     "metadata": {},
     "output_type": "execute_result"
    }
   ],
   "source": [
    "st = 'upflairs 0 pvt 25 ltd pvt jaipur 8 rajasthan @Abhimanyu 302033'\n",
    "print(st)\n",
    "re.findall('[pvt]',st)"
   ]
  },
  {
   "cell_type": "code",
   "execution_count": 36,
   "metadata": {},
   "outputs": [
    {
     "name": "stdout",
     "output_type": "stream",
     "text": [
      "upflairs 0 pvt 25 ltd pvt jaipur 8 rajasthan @Abhimanyu 302033\n"
     ]
    },
    {
     "data": {
      "text/plain": [
       "['Abhimanyu']"
      ]
     },
     "execution_count": 36,
     "metadata": {},
     "output_type": "execute_result"
    }
   ],
   "source": [
    "st = 'upflairs 0 pvt 25 ltd pvt jaipur 8 rajasthan @Abhimanyu 302033'\n",
    "print(st)\n",
    "re.findall('Abh.....u',st)  # . "
   ]
  },
  {
   "cell_type": "code",
   "execution_count": 38,
   "metadata": {},
   "outputs": [
    {
     "name": "stdout",
     "output_type": "stream",
     "text": [
      "upflairs 0 pvt 25 ltd pvt jaipur 8 rajasthan @Abhimanyu 302033\n"
     ]
    },
    {
     "data": {
      "text/plain": [
       "['Abhimanyu']"
      ]
     },
     "execution_count": 38,
     "metadata": {},
     "output_type": "execute_result"
    }
   ],
   "source": [
    "st = 'upflairs 0 pvt 25 ltd pvt jaipur 8 rajasthan @Abhimanyu 302033'\n",
    "print(st)\n",
    "re.findall('Abh.*u',st)  # . "
   ]
  },
  {
   "cell_type": "code",
   "execution_count": 39,
   "metadata": {},
   "outputs": [
    {
     "name": "stdout",
     "output_type": "stream",
     "text": [
      "upflairs 0 pvt 25 ltd pvt jaipur 8 rajasthan @Abhimanyu 302033\n"
     ]
    },
    {
     "data": {
      "text/plain": [
       "['Abhimanyu']"
      ]
     },
     "execution_count": 39,
     "metadata": {},
     "output_type": "execute_result"
    }
   ],
   "source": [
    "st = 'upflairs 0 pvt 25 ltd pvt jaipur 8 rajasthan @Abhimanyu 302033'\n",
    "print(st)\n",
    "re.findall('A.*u',st)  # . "
   ]
  },
  {
   "cell_type": "code",
   "execution_count": 42,
   "metadata": {},
   "outputs": [
    {
     "name": "stdout",
     "output_type": "stream",
     "text": [
      "['f', 'a', 'd', 'a', 'a', 'a', 'a', 'b', 'a']\n"
     ]
    }
   ],
   "source": [
    "st = 'upflairs 0 pvt 25 ltd pvt jaipur 8 rajasthan @Abhimanyu 302033'\n",
    "print(re.findall('[a-f]',st))"
   ]
  },
  {
   "cell_type": "code",
   "execution_count": 43,
   "metadata": {},
   "outputs": [
    {
     "name": "stdout",
     "output_type": "stream",
     "text": [
      "['0', '2', '5', '8', '3', '0', '2', '0', '3', '3']\n"
     ]
    }
   ],
   "source": [
    "st = 'upflairs 0 pvt 25 ltd pvt jaipur 8 rajasthan @Abhimanyu 302033'\n",
    "print(re.findall('[0-9]',st))"
   ]
  },
  {
   "cell_type": "code",
   "execution_count": 47,
   "metadata": {},
   "outputs": [
    {
     "data": {
      "text/plain": [
       "'9759194985302033'"
      ]
     },
     "execution_count": 47,
     "metadata": {},
     "output_type": "execute_result"
    }
   ],
   "source": [
    "st = \"hey this is my contact number 9759194985 and this is postal code 302033\"\n",
    "\"\".join(re.findall('[0-9]',st))"
   ]
  },
  {
   "cell_type": "code",
   "execution_count": 50,
   "metadata": {},
   "outputs": [
    {
     "data": {
      "text/plain": [
       "'9759194985302033'"
      ]
     },
     "execution_count": 50,
     "metadata": {},
     "output_type": "execute_result"
    }
   ],
   "source": [
    "#  how we can fetch contact no. and email address from the string using regular expression\n",
    "st = \"\"\"hey this is my contact number 9759194985 and this is postal code 302033\n",
    " and this is my email ranjit.upflairs@gmail.com\"\"\"\n",
    "\"\".join(re.findall('[0-9]',st))"
   ]
  },
  {
   "cell_type": "code",
   "execution_count": 51,
   "metadata": {},
   "outputs": [
    {
     "data": {
      "text/plain": [
       "['ranjit.upflairs@gmail.com']"
      ]
     },
     "execution_count": 51,
     "metadata": {},
     "output_type": "execute_result"
    }
   ],
   "source": [
    "re.findall(\"ran.*@gmail.com\",st)"
   ]
  },
  {
   "cell_type": "code",
   "execution_count": null,
   "metadata": {},
   "outputs": [],
   "source": []
  }
 ],
 "metadata": {
  "kernelspec": {
   "display_name": "Python 3",
   "language": "python",
   "name": "python3"
  },
  "language_info": {
   "codemirror_mode": {
    "name": "ipython",
    "version": 3
   },
   "file_extension": ".py",
   "mimetype": "text/x-python",
   "name": "python",
   "nbconvert_exporter": "python",
   "pygments_lexer": "ipython3",
   "version": "3.12.4"
  }
 },
 "nbformat": 4,
 "nbformat_minor": 2
}
