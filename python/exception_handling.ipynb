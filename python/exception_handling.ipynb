{
 "cells": [
  {
   "cell_type": "code",
   "execution_count": 2,
   "metadata": {},
   "outputs": [
    {
     "ename": "SyntaxError",
     "evalue": "unterminated string literal (detected at line 8) (3794202585.py, line 8)",
     "output_type": "error",
     "traceback": [
      "\u001b[1;36m  Cell \u001b[1;32mIn[2], line 8\u001b[1;36m\u001b[0m\n\u001b[1;33m    print(\"hello world)\u001b[0m\n\u001b[1;37m          ^\u001b[0m\n\u001b[1;31mSyntaxError\u001b[0m\u001b[1;31m:\u001b[0m unterminated string literal (detected at line 8)\n"
     ]
    }
   ],
   "source": [
    "print(\"hello world\")\n",
    "print(\"hello world\")\n",
    "print(\"hello world\")\n",
    "print(\"hello world\")\n",
    "print(\"hello world\")\n",
    "print(\"hello world\")\n",
    "print(\"hello world\")\n",
    "print(\"hello world)\n",
    "print(\"hello world\")\n",
    "print(\"hello world\")\n",
    "print(\"hello world\")\n",
    "print(\"hello world\")\n",
    "print(\"hello world\")\n",
    "print(\"hello world\")\n",
    "print(\"hello world\")\n"
   ]
  },
  {
   "cell_type": "code",
   "execution_count": 1,
   "metadata": {},
   "outputs": [
    {
     "name": "stdout",
     "output_type": "stream",
     "text": [
      "dfdfl\n"
     ]
    },
    {
     "ename": "ValueError",
     "evalue": "invalid literal for int() with base 10: 'lkkfl'",
     "output_type": "error",
     "traceback": [
      "\u001b[1;31m---------------------------------------------------------------------------\u001b[0m",
      "\u001b[1;31mValueError\u001b[0m                                Traceback (most recent call last)",
      "Cell \u001b[1;32mIn[1], line 3\u001b[0m\n\u001b[0;32m      1\u001b[0m name \u001b[38;5;241m=\u001b[39m \u001b[38;5;28minput\u001b[39m(\u001b[38;5;124m\"\u001b[39m\u001b[38;5;124mplz enter your name : \u001b[39m\u001b[38;5;124m\"\u001b[39m)\n\u001b[0;32m      2\u001b[0m \u001b[38;5;28mprint\u001b[39m(name)\n\u001b[1;32m----> 3\u001b[0m age \u001b[38;5;241m=\u001b[39m \u001b[38;5;28;43mint\u001b[39;49m\u001b[43m(\u001b[49m\u001b[38;5;28;43minput\u001b[39;49m\u001b[43m(\u001b[49m\u001b[38;5;124;43m\"\u001b[39;49m\u001b[38;5;124;43mplz enter your age : \u001b[39;49m\u001b[38;5;124;43m\"\u001b[39;49m\u001b[43m)\u001b[49m\u001b[43m)\u001b[49m \n\u001b[0;32m      4\u001b[0m \u001b[38;5;28mprint\u001b[39m(\u001b[38;5;124mf\u001b[39m\u001b[38;5;124m\"\u001b[39m\u001b[38;5;124mHeyy i am \u001b[39m\u001b[38;5;132;01m{\u001b[39;00mname\u001b[38;5;132;01m}\u001b[39;00m\u001b[38;5;124m and i am \u001b[39m\u001b[38;5;132;01m{\u001b[39;00mage\u001b[38;5;132;01m}\u001b[39;00m\u001b[38;5;124m year old!\u001b[39m\u001b[38;5;124m\"\u001b[39m)\n\u001b[0;32m      5\u001b[0m \u001b[38;5;28mprint\u001b[39m(\u001b[38;5;124m\"\u001b[39m\u001b[38;5;124mhey i am important plz execute me!\u001b[39m\u001b[38;5;124m\"\u001b[39m)\n",
      "\u001b[1;31mValueError\u001b[0m: invalid literal for int() with base 10: 'lkkfl'"
     ]
    }
   ],
   "source": [
    "name = input(\"plz enter your name : \")\n",
    "print(name)\n",
    "age = int(input(\"plz enter your age : \")) \n",
    "print(f\"Heyy i am {name} and i am {age} year old!\")\n",
    "print(\"hey i am important plz execute me!\")"
   ]
  },
  {
   "cell_type": "code",
   "execution_count": null,
   "metadata": {},
   "outputs": [],
   "source": []
  },
  {
   "cell_type": "code",
   "execution_count": 12,
   "metadata": {},
   "outputs": [
    {
     "name": "stdout",
     "output_type": "stream",
     "text": [
      "dfdl \n",
      "hey dont woryy keep executing, i can see you faced some error\n",
      "hey i have saved your information (from except block)\n",
      "hey i have saved your information (from finally block)\n",
      "hey i am important plz execute me!\n"
     ]
    }
   ],
   "source": [
    "## excption  (try,except,else,finally) \n",
    "try:\n",
    "    name = input(\"plz enter your name : \")\n",
    "    print(name)\n",
    "    age = int(input(\"plz enter your age : \")) \n",
    "    print(f\"Heyy i am {name} and i am {age} year old!\") \n",
    "except: \n",
    "    print(\"hey dont woryy keep executing, i can see you faced some error\") \n",
    "    print(\"hey i have saved your information (from except block)\")\n",
    "\n",
    "else:\n",
    "    print(\"hey i have saved your information (from else block)\")\n",
    "\n",
    "finally:\n",
    "    print(\"hey i have saved your information (from finally block)\")\n",
    "\n",
    "\n",
    "\n",
    "\n",
    "print(\"hey i am important plz execute me!\")\n"
   ]
  },
  {
   "cell_type": "code",
   "execution_count": 18,
   "metadata": {},
   "outputs": [
    {
     "name": "stdout",
     "output_type": "stream",
     "text": [
      "Hey first number : 25  and second  number is : 0\n",
      "division by zero\n",
      "Hey i faced error!\n"
     ]
    }
   ],
   "source": [
    "## to check the error message using exception handling \n",
    "try:\n",
    "    num1  = int(input(\"plz enter your number : \"))\n",
    "    num2  = int(input(\"plz enter your number : \"))\n",
    "    print(f\"Hey first number : {num1}  and second  number is : {num2}\")\n",
    "    result = num1 / num2  \n",
    "    print(result) \n",
    "except Exception as e:\n",
    "    print(e)\n",
    "    print(\"Hey i faced error!\")"
   ]
  },
  {
   "cell_type": "code",
   "execution_count": 19,
   "metadata": {},
   "outputs": [
    {
     "ename": "ZeroDivisionError",
     "evalue": "division by zero",
     "output_type": "error",
     "traceback": [
      "\u001b[1;31m---------------------------------------------------------------------------\u001b[0m",
      "\u001b[1;31mZeroDivisionError\u001b[0m                         Traceback (most recent call last)",
      "Cell \u001b[1;32mIn[19], line 1\u001b[0m\n\u001b[1;32m----> 1\u001b[0m \u001b[38;5;241;43m25\u001b[39;49m\u001b[38;5;241;43m/\u001b[39;49m\u001b[38;5;241;43m0\u001b[39;49m\n",
      "\u001b[1;31mZeroDivisionError\u001b[0m: division by zero"
     ]
    }
   ],
   "source": [
    "25/0"
   ]
  },
  {
   "cell_type": "code",
   "execution_count": 23,
   "metadata": {},
   "outputs": [
    {
     "name": "stdout",
     "output_type": "stream",
     "text": [
      "Hey first number : 25  and second  number is : 0\n",
      "hey plz don enter 0 in a second numbr\n",
      "hey thank you\n"
     ]
    }
   ],
   "source": [
    "try:\n",
    "    num1  = int(input(\"plz enter your number : \"))\n",
    "    num2  = int(input(\"plz enter your number : \"))\n",
    "    print(f\"Hey first number : {num1}  and second  number is : {num2}\")\n",
    "    result = num1 / num2  \n",
    "    print(result) \n",
    "except ValueError:    \n",
    "    print(\"Hey plz enter a valid input!\")\n",
    "\n",
    "except ZeroDivisionError: \n",
    "    print(\"hey plz don enter 0 in a second numbr\")\n",
    "    \n",
    "print(\"hey thank you\")\n",
    "\n"
   ]
  },
  {
   "cell_type": "code",
   "execution_count": 26,
   "metadata": {},
   "outputs": [],
   "source": [
    "import sys \n"
   ]
  },
  {
   "cell_type": "code",
   "execution_count": 33,
   "metadata": {},
   "outputs": [
    {
     "name": "stdout",
     "output_type": "stream",
     "text": [
      "Hey first number : 25  and second  number is : 0\n",
      "line no. : 10\n",
      "error class :  <class 'ZeroDivisionError'>\n",
      "error message :  division by zero\n",
      "hey thank you\n"
     ]
    }
   ],
   "source": [
    "try:\n",
    "    num1  = int(input(\"plz enter your number : \"))\n",
    "    num2  = int(input(\"plz enter your number : \"))\n",
    "    print(f\"Hey first number : {num1}  and second  number is : {num2}\")\n",
    "    result = num1 / num2  \n",
    "    print(result) \n",
    "# except :   # except Exception as e \n",
    "except Exception as e:\n",
    "    error_class,error_message , tbframe = sys.exc_info()\n",
    "    error_line_number = tbframe.tb_frame.f_lineno\n",
    "    print(\"line no. :\",error_line_number)\n",
    "    print(\"error class : \",error_class)\n",
    "    print(\"error message : \",error_message)   \n",
    "print(\"hey thank you\")"
   ]
  },
  {
   "cell_type": "code",
   "execution_count": null,
   "metadata": {},
   "outputs": [],
   "source": [
    "## error vs exception ??? 4 \n",
    "# 4 blocks \n",
    "# except \n",
    "# except Valuer \n"
   ]
  },
  {
   "cell_type": "code",
   "execution_count": null,
   "metadata": {},
   "outputs": [],
   "source": [
    "# third party error   # AC  , LED \n",
    "try:\n",
    "    num1  = int(input(\"plz enter your number : \"))\n",
    "    num2  = int(input(\"plz enter your number : \"))\n",
    "    print(f\"Hey first number : {num1}  and second  number is : {num2}\")\n",
    "    result = num1 / num2  \n",
    "    print(result) \n",
    "except ValueError:    \n",
    "    print(\"Hey plz enter a valid input!\")\n",
    "\n",
    "except ZeroDivisionError: \n",
    "    print(\"hey plz don enter 0 in a second numbr\")\n",
    "\n",
    "except Exception as e:  # MAIN SUPPLY BAND \n",
    "    print(e)\n",
    "     \n",
    "print(\"hey thank you\")\n",
    "\n"
   ]
  },
  {
   "cell_type": "code",
   "execution_count": null,
   "metadata": {},
   "outputs": [],
   "source": [
    "n1 = int(input(\"plz enter your number : \"))\n",
    "n2 = int(input(\"plz enter your second numbr : \") )\n",
    "\n",
    "result = n1 / n2 "
   ]
  },
  {
   "cell_type": "code",
   "execution_count": 4,
   "metadata": {},
   "outputs": [
    {
     "ename": "RuntimeError",
     "evalue": "No active exception to reraise",
     "output_type": "error",
     "traceback": [
      "\u001b[1;31m---------------------------------------------------------------------------\u001b[0m",
      "\u001b[1;31mRuntimeError\u001b[0m                              Traceback (most recent call last)",
      "Cell \u001b[1;32mIn[4], line 3\u001b[0m\n\u001b[0;32m      1\u001b[0m x \u001b[38;5;241m=\u001b[39m \u001b[38;5;241m-\u001b[39m\u001b[38;5;241m6\u001b[39m \n\u001b[0;32m      2\u001b[0m \u001b[38;5;28;01mif\u001b[39;00m x \u001b[38;5;241m<\u001b[39m \u001b[38;5;241m0\u001b[39m: \n\u001b[1;32m----> 3\u001b[0m     \u001b[38;5;28;01mraise\u001b[39;00m \n",
      "\u001b[1;31mRuntimeError\u001b[0m: No active exception to reraise"
     ]
    }
   ],
   "source": [
    "x = -6 \n",
    "if x < 0: \n",
    "    raise "
   ]
  },
  {
   "cell_type": "code",
   "execution_count": 7,
   "metadata": {},
   "outputs": [
    {
     "ename": "ValueError",
     "evalue": "Hey plz dont pass the negative!",
     "output_type": "error",
     "traceback": [
      "\u001b[1;31m---------------------------------------------------------------------------\u001b[0m",
      "\u001b[1;31mValueError\u001b[0m                                Traceback (most recent call last)",
      "Cell \u001b[1;32mIn[7], line 3\u001b[0m\n\u001b[0;32m      1\u001b[0m x \u001b[38;5;241m=\u001b[39m \u001b[38;5;241m-\u001b[39m\u001b[38;5;241m6\u001b[39m \n\u001b[0;32m      2\u001b[0m \u001b[38;5;28;01mif\u001b[39;00m x \u001b[38;5;241m<\u001b[39m \u001b[38;5;241m0\u001b[39m: \n\u001b[1;32m----> 3\u001b[0m     \u001b[38;5;28;01mraise\u001b[39;00m \u001b[38;5;167;01mValueError\u001b[39;00m(\u001b[38;5;124m\"\u001b[39m\u001b[38;5;124mHey plz dont pass the negative!\u001b[39m\u001b[38;5;124m\"\u001b[39m)\n",
      "\u001b[1;31mValueError\u001b[0m: Hey plz dont pass the negative!"
     ]
    }
   ],
   "source": [
    "x = -6 \n",
    "if x < 0: \n",
    "    raise ValueError(\"Hey plz dont pass the negative!\")"
   ]
  },
  {
   "cell_type": "code",
   "execution_count": 8,
   "metadata": {},
   "outputs": [
    {
     "ename": "TypeError",
     "evalue": "Hey plz dont pass the negative!",
     "output_type": "error",
     "traceback": [
      "\u001b[1;31m---------------------------------------------------------------------------\u001b[0m",
      "\u001b[1;31mTypeError\u001b[0m                                 Traceback (most recent call last)",
      "Cell \u001b[1;32mIn[8], line 3\u001b[0m\n\u001b[0;32m      1\u001b[0m x \u001b[38;5;241m=\u001b[39m \u001b[38;5;241m-\u001b[39m\u001b[38;5;241m6\u001b[39m \n\u001b[0;32m      2\u001b[0m \u001b[38;5;28;01mif\u001b[39;00m x \u001b[38;5;241m<\u001b[39m \u001b[38;5;241m0\u001b[39m: \n\u001b[1;32m----> 3\u001b[0m     \u001b[38;5;28;01mraise\u001b[39;00m \u001b[38;5;167;01mTypeError\u001b[39;00m(\u001b[38;5;124m\"\u001b[39m\u001b[38;5;124mHey plz dont pass the negative!\u001b[39m\u001b[38;5;124m\"\u001b[39m)\n",
      "\u001b[1;31mTypeError\u001b[0m: Hey plz dont pass the negative!"
     ]
    }
   ],
   "source": [
    "x = -6 \n",
    "if x < 0: \n",
    "    raise TypeError(\"Hey plz dont pass the negative!\")"
   ]
  },
  {
   "cell_type": "code",
   "execution_count": 14,
   "metadata": {},
   "outputs": [
    {
     "name": "stdout",
     "output_type": "stream",
     "text": [
      "its okay i have raised this error for the user!\n",
      "Hey i am important plz execute me!\n"
     ]
    }
   ],
   "source": [
    "try:\n",
    "    file_deletion  = input(\"do you want to delete the file press Y/N : \")\n",
    "    is_open = \"yes\" \n",
    "    if file_deletion.lower() == \"y\": \n",
    "        if is_open == \"yes\":\n",
    "            raise TypeError(\"Hey this file is already using in another processs !\")\n",
    "        else:\n",
    "            print(\"your file is successfully deleted! \")\n",
    "\n",
    "except TypeError:\n",
    "    print(\"its okay i have raised this error for the user!\")\n",
    "\n",
    "print(\"Hey i am important plz execute me!\")\n",
    "\n",
    "\n",
    "\n"
   ]
  },
  {
   "cell_type": "code",
   "execution_count": 21,
   "metadata": {},
   "outputs": [
    {
     "ename": "AssertionError",
     "evalue": "Heyy my assumption is failed",
     "output_type": "error",
     "traceback": [
      "\u001b[1;31m---------------------------------------------------------------------------\u001b[0m",
      "\u001b[1;31mAssertionError\u001b[0m                            Traceback (most recent call last)",
      "Cell \u001b[1;32mIn[21], line 4\u001b[0m\n\u001b[0;32m      2\u001b[0m x \u001b[38;5;241m=\u001b[39m \u001b[38;5;241m10\u001b[39m\n\u001b[0;32m      3\u001b[0m \u001b[38;5;28;01massert\u001b[39;00m \u001b[38;5;28;01mTrue\u001b[39;00m, \u001b[38;5;124m\"\u001b[39m\u001b[38;5;124mx should be greater than 5\u001b[39m\u001b[38;5;124m\"\u001b[39m   \u001b[38;5;66;03m# True \u001b[39;00m\n\u001b[1;32m----> 4\u001b[0m \u001b[38;5;28;01massert\u001b[39;00m \u001b[38;5;28;01mFalse\u001b[39;00m, \u001b[38;5;124m\"\u001b[39m\u001b[38;5;124mHeyy my assumption is failed\u001b[39m\u001b[38;5;124m\"\u001b[39m\n\u001b[0;32m      5\u001b[0m \u001b[38;5;66;03m# assert x < 5, \"x is not less than 5\"  # This\u001b[39;00m\n",
      "\u001b[1;31mAssertionError\u001b[0m: Heyy my assumption is failed"
     ]
    }
   ],
   "source": [
    "###  assert \n",
    "x = 10\n",
    "assert True, \"x should be greater than 5\"   # True \n",
    "assert False, \"Heyy my assumption is failed\"\n",
    "# assert x < 5, \"x is not less than 5\"  # This"
   ]
  },
  {
   "cell_type": "code",
   "execution_count": 23,
   "metadata": {},
   "outputs": [
    {
     "ename": "AssertionError",
     "evalue": "hey this is assertion error",
     "output_type": "error",
     "traceback": [
      "\u001b[1;31m---------------------------------------------------------------------------\u001b[0m",
      "\u001b[1;31mAssertionError\u001b[0m                            Traceback (most recent call last)",
      "Cell \u001b[1;32mIn[23], line 3\u001b[0m\n\u001b[0;32m      1\u001b[0m x \u001b[38;5;241m=\u001b[39m \u001b[38;5;241m-\u001b[39m\u001b[38;5;241m6\u001b[39m \n\u001b[0;32m      2\u001b[0m \u001b[38;5;28;01mif\u001b[39;00m x \u001b[38;5;241m<\u001b[39m \u001b[38;5;241m0\u001b[39m: \n\u001b[1;32m----> 3\u001b[0m     \u001b[38;5;28;01mraise\u001b[39;00m \u001b[38;5;167;01mAssertionError\u001b[39;00m(\u001b[38;5;124m\"\u001b[39m\u001b[38;5;124mhey this is assertion error\u001b[39m\u001b[38;5;124m\"\u001b[39m)\n",
      "\u001b[1;31mAssertionError\u001b[0m: hey this is assertion error"
     ]
    }
   ],
   "source": [
    "x = -6 \n",
    "if x < 0: \n",
    "    raise AssertionError(\"hey this is assertion error\")"
   ]
  }
 ],
 "metadata": {
  "kernelspec": {
   "display_name": "Python 3",
   "language": "python",
   "name": "python3"
  },
  "language_info": {
   "codemirror_mode": {
    "name": "ipython",
    "version": 3
   },
   "file_extension": ".py",
   "mimetype": "text/x-python",
   "name": "python",
   "nbconvert_exporter": "python",
   "pygments_lexer": "ipython3",
   "version": "3.12.4"
  }
 },
 "nbformat": 4,
 "nbformat_minor": 2
}
