{
 "cells": [
  {
   "cell_type": "markdown",
   "metadata": {},
   "source": [
    "### Decorator "
   ]
  },
  {
   "cell_type": "code",
   "execution_count": 1,
   "metadata": {},
   "outputs": [
    {
     "name": "stdout",
     "output_type": "stream",
     "text": [
      "Hey i am testing funtion\n",
      "funtion test2 is executed\n"
     ]
    }
   ],
   "source": [
    "def testing(fun):   # \n",
    "    print(\"Hey i am testing funtion\") \n",
    "    fun()\n",
    "\n",
    "\n",
    "def test2():\n",
    "    print('funtion test2 is executed')\n",
    "\n",
    "    \n",
    "testing(fun=test2)"
   ]
  },
  {
   "cell_type": "code",
   "execution_count": 3,
   "metadata": {},
   "outputs": [
    {
     "name": "stdout",
     "output_type": "stream",
     "text": [
      "hey we are doing testing1\n"
     ]
    }
   ],
   "source": [
    "def testing1():\n",
    "    print(\"hey we are doing testing1\") \n",
    "    def testing2(): \n",
    "        print(\"hey we are testing2 function!\") \n",
    "    return testing2\n",
    "\n",
    "\n",
    "testing2 =  testing1()"
   ]
  },
  {
   "cell_type": "code",
   "execution_count": 4,
   "metadata": {},
   "outputs": [
    {
     "name": "stdout",
     "output_type": "stream",
     "text": [
      "hey we are testing2 function!\n"
     ]
    }
   ],
   "source": [
    "testing2()"
   ]
  },
  {
   "cell_type": "code",
   "execution_count": 8,
   "metadata": {},
   "outputs": [
    {
     "name": "stdout",
     "output_type": "stream",
     "text": [
      "hey we are doing testing1\n",
      "hey we are testing2 function!\n"
     ]
    }
   ],
   "source": [
    "def testing1():\n",
    "    print(\"hey we are doing testing1\")\n",
    "    def testing2():\n",
    "        print(\"hey we are testing2 function!\")\n",
    "    return testing2\n",
    "\n",
    "output  =  testing1()\n",
    "output()"
   ]
  },
  {
   "cell_type": "code",
   "execution_count": 14,
   "metadata": {},
   "outputs": [
    {
     "name": "stdout",
     "output_type": "stream",
     "text": [
      "Heyy i did modification before calling the function!\n",
      "heyy i wants some modification.\n",
      "hey i am done modification after the calling!\n"
     ]
    }
   ],
   "source": [
    "def wraper(fun):\n",
    "    def inner_function():\n",
    "        print('Heyy i did modification before calling the function!') \n",
    "        fun()\n",
    "        print(\"hey i am done modification after the calling!\")\n",
    "    return inner_function \n",
    "\n",
    "def to_modify():\n",
    "    print(\"heyy i wants some modification.\")\n",
    "\n",
    "\n",
    "\n",
    "output = wraper(fun=to_modify)\n",
    "output()"
   ]
  },
  {
   "cell_type": "code",
   "execution_count": 11,
   "metadata": {},
   "outputs": [
    {
     "name": "stdout",
     "output_type": "stream",
     "text": [
      "Heyy i did modification before calling the function!\n",
      "heyy i wants some modification.\n",
      "hey i am done modification after the calling!\n",
      "Heyy i did modification before calling the function!\n",
      "Heyy i did modification before calling the function!\n",
      "heyy i wants some modification.\n",
      "hey i am done modification after the calling!\n",
      "hey i am done modification after the calling!\n"
     ]
    }
   ],
   "source": [
    "def wraper(fun):   # \n",
    "    def inner_function():\n",
    "        print('Heyy i did modification before calling the function!') \n",
    "        fun()\n",
    "        print(\"hey i am done modification after the calling!\")\n",
    "    return inner_function \n",
    "\n",
    "\n",
    "\n",
    "\n",
    "\n",
    "\n",
    "@wraper \n",
    "def to_modify():\n",
    "    # print(\"Heyy i did modification before calling the function!\")\n",
    "    print(\"heyy i wants some modification.\")\n",
    "    # print(\"hey i am done modification after the calling!\")\n",
    "\n",
    "\n",
    "to_modify()\n",
    "\n",
    "\n",
    "# output = wraper(fun=to_modify)\n",
    "# output()"
   ]
  },
  {
   "cell_type": "code",
   "execution_count": 26,
   "metadata": {},
   "outputs": [
    {
     "name": "stdout",
     "output_type": "stream",
     "text": [
      "Your average is : 25.00\n"
     ]
    }
   ],
   "source": [
    "def wraper(fun):\n",
    "    def inner_function(ls):\n",
    "        total_sum = sum(ls)\n",
    "        count = len(ls)\n",
    "        fun(total_sum,count)\n",
    "    return inner_function\n",
    "\n",
    "\n",
    "\n",
    "@wraper\n",
    "def average_finder(total_sum,count): \n",
    "    print(f\"Your average is : {total_sum/count:.2f}\") \n",
    "\n",
    "ls = [10,20,30,40]\n",
    "average_finder(ls)"
   ]
  },
  {
   "cell_type": "markdown",
   "metadata": {},
   "source": [
    "## iterator"
   ]
  },
  {
   "cell_type": "code",
   "execution_count": 27,
   "metadata": {},
   "outputs": [
    {
     "name": "stdout",
     "output_type": "stream",
     "text": [
      "<class 'list'>\n"
     ]
    }
   ],
   "source": [
    "ls = [10,20,30,40,50]\n",
    "print(type(ls))"
   ]
  },
  {
   "cell_type": "code",
   "execution_count": 58,
   "metadata": {},
   "outputs": [
    {
     "data": {
      "text/plain": [
       "<list_iterator at 0x256750496f0>"
      ]
     },
     "execution_count": 58,
     "metadata": {},
     "output_type": "execute_result"
    }
   ],
   "source": [
    "ls = [10,20,30,40,50]\n",
    "\n",
    "\n",
    "var2 = iter(ls) \n",
    "var2"
   ]
  },
  {
   "cell_type": "code",
   "execution_count": 64,
   "metadata": {},
   "outputs": [
    {
     "ename": "StopIteration",
     "evalue": "",
     "output_type": "error",
     "traceback": [
      "\u001b[1;31m---------------------------------------------------------------------------\u001b[0m",
      "\u001b[1;31mStopIteration\u001b[0m                             Traceback (most recent call last)",
      "Cell \u001b[1;32mIn[64], line 1\u001b[0m\n\u001b[1;32m----> 1\u001b[0m \u001b[38;5;28;43mnext\u001b[39;49m\u001b[43m(\u001b[49m\u001b[43mvar2\u001b[49m\u001b[43m)\u001b[49m\n",
      "\u001b[1;31mStopIteration\u001b[0m: "
     ]
    }
   ],
   "source": [
    "next(var2)"
   ]
  },
  {
   "cell_type": "code",
   "execution_count": 57,
   "metadata": {},
   "outputs": [],
   "source": [
    "for item in var2:\n",
    "    print(item) "
   ]
  },
  {
   "cell_type": "markdown",
   "metadata": {},
   "source": [
    "### Generator \n",
    "generator is a special type of function, that used \"yield\" keywords instead of \"return\". and generator are memory effiecint, and returns generator objects. "
   ]
  },
  {
   "cell_type": "code",
   "execution_count": 5,
   "metadata": {},
   "outputs": [
    {
     "data": {
      "text/plain": [
       "[0, 1, 2, 3, 4, 5, 6, 7, 8, 9, 10, 11, 12, 13, 14]"
      ]
     },
     "execution_count": 5,
     "metadata": {},
     "output_type": "execute_result"
    }
   ],
   "source": [
    "def test(n):\n",
    "    ls = []\n",
    "    for i in range(n):\n",
    "        ls.append(i) \n",
    "    return ls \n",
    "\n",
    "output = test(15)\n",
    "output"
   ]
  },
  {
   "cell_type": "code",
   "execution_count": 16,
   "metadata": {},
   "outputs": [],
   "source": [
    "def test2(n):\n",
    "    for i in range(n):\n",
    "        yield i   ## return   yeild ==> it store the local variables "
   ]
  },
  {
   "cell_type": "code",
   "execution_count": 19,
   "metadata": {},
   "outputs": [
    {
     "data": {
      "text/plain": [
       "<generator object test2 at 0x000002133F70DE50>"
      ]
     },
     "execution_count": 19,
     "metadata": {},
     "output_type": "execute_result"
    }
   ],
   "source": [
    "output = test2(1500)\n",
    "output"
   ]
  },
  {
   "cell_type": "code",
   "execution_count": 20,
   "metadata": {},
   "outputs": [],
   "source": [
    "total_sum = 0\n",
    "for item in output:\n",
    "    total_sum += item "
   ]
  },
  {
   "cell_type": "code",
   "execution_count": 22,
   "metadata": {},
   "outputs": [
    {
     "data": {
      "text/plain": [
       "1124250"
      ]
     },
     "execution_count": 22,
     "metadata": {},
     "output_type": "execute_result"
    }
   ],
   "source": [
    "total_sum"
   ]
  },
  {
   "cell_type": "code",
   "execution_count": 23,
   "metadata": {},
   "outputs": [],
   "source": [
    "for item in output:\n",
    "    print(item)"
   ]
  },
  {
   "cell_type": "code",
   "execution_count": null,
   "metadata": {},
   "outputs": [],
   "source": [
    "# iterables : sequence (list,tuples,dict,set) "
   ]
  },
  {
   "cell_type": "code",
   "execution_count": null,
   "metadata": {},
   "outputs": [],
   "source": [
    "## iterator , decorator , generator , iterables \n"
   ]
  }
 ],
 "metadata": {
  "kernelspec": {
   "display_name": "Python 3",
   "language": "python",
   "name": "python3"
  },
  "language_info": {
   "codemirror_mode": {
    "name": "ipython",
    "version": 3
   },
   "file_extension": ".py",
   "mimetype": "text/x-python",
   "name": "python",
   "nbconvert_exporter": "python",
   "pygments_lexer": "ipython3",
   "version": "3.12.4"
  }
 },
 "nbformat": 4,
 "nbformat_minor": 2
}
