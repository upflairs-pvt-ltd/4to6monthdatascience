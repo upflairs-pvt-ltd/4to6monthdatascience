{
 "cells": [
  {
   "cell_type": "markdown",
   "metadata": {},
   "source": [
    "### single inheritence "
   ]
  },
  {
   "cell_type": "code",
   "execution_count": 10,
   "metadata": {},
   "outputs": [],
   "source": [
    "class College:\n",
    "    college_name = \"iet lucknow\"\n",
    "    college_city = \"lucknow\" \n",
    "\n",
    "class Student(College):\n",
    "    student_name = \"anshika\" \n",
    "    student_home_town = \"kota\" \n"
   ]
  },
  {
   "cell_type": "code",
   "execution_count": 11,
   "metadata": {},
   "outputs": [],
   "source": [
    "colleg_obj = College() \n",
    "Student_obj = Student()"
   ]
  },
  {
   "cell_type": "code",
   "execution_count": 12,
   "metadata": {},
   "outputs": [
    {
     "data": {
      "text/plain": [
       "'kota'"
      ]
     },
     "execution_count": 12,
     "metadata": {},
     "output_type": "execute_result"
    }
   ],
   "source": [
    "Student_obj.student_home_town"
   ]
  },
  {
   "cell_type": "code",
   "execution_count": 13,
   "metadata": {},
   "outputs": [
    {
     "data": {
      "text/plain": [
       "'iet lucknow'"
      ]
     },
     "execution_count": 13,
     "metadata": {},
     "output_type": "execute_result"
    }
   ],
   "source": [
    "Student_obj.college_name"
   ]
  },
  {
   "cell_type": "code",
   "execution_count": 14,
   "metadata": {},
   "outputs": [],
   "source": [
    "class College:\n",
    "    college_name = \"iet lucknow\"\n",
    "    college_city = \"lucknow\" \n",
    "\n",
    "    @classmethod \n",
    "    def college_display(cls):\n",
    "        print(cls.college_name)\n",
    "        print(cls.college_city)\n",
    "\n",
    "\n",
    "class Student(College):\n",
    "    student_name = \"anshika\" \n",
    "    student_home_town = \"kota\"\n",
    "\n",
    "    @classmethod \n",
    "    def student_display(cls):\n",
    "        print(cls.student_name)\n",
    "        print(cls.student_home_town) "
   ]
  },
  {
   "cell_type": "code",
   "execution_count": 15,
   "metadata": {},
   "outputs": [],
   "source": [
    "student_obj = Student()"
   ]
  },
  {
   "cell_type": "code",
   "execution_count": 16,
   "metadata": {},
   "outputs": [
    {
     "name": "stdout",
     "output_type": "stream",
     "text": [
      "anshika\n",
      "kota\n"
     ]
    }
   ],
   "source": [
    "student_obj.student_display()"
   ]
  },
  {
   "cell_type": "code",
   "execution_count": 17,
   "metadata": {},
   "outputs": [
    {
     "name": "stdout",
     "output_type": "stream",
     "text": [
      "iet lucknow\n",
      "lucknow\n"
     ]
    }
   ],
   "source": [
    "student_obj.college_display()"
   ]
  },
  {
   "cell_type": "markdown",
   "metadata": {},
   "source": [
    "### single inheritence with constructor"
   ]
  },
  {
   "cell_type": "code",
   "execution_count": 34,
   "metadata": {},
   "outputs": [],
   "source": [
    "class College:\n",
    "    college_name = \"iet lucknow\"\n",
    "    college_city = \"lucknow\" \n",
    "\n",
    "    def __init__(self,no_of_faculty,no_of_department):\n",
    "        self.no_of_faculty = no_of_faculty \n",
    "        self.no_of_department = no_of_department \n",
    "        print('college class constructor executed')\n",
    "\n",
    "    def college_info(self):\n",
    "        print(self.no_of_faculty)\n",
    "        print(self.no_of_department)\n",
    "\n",
    "    @classmethod \n",
    "    def college_display(cls):\n",
    "        print(cls.college_name)\n",
    "        print(cls.college_city)\n",
    "    \n",
    "    def testing(self):\n",
    "        print(\"hey i executed by the super method\")\n",
    "\n",
    "\n",
    "class Student(College):\n",
    "    student_name = \"anshika\" \n",
    "    student_home_town = \"kota\"\n",
    "    \n",
    "    def __init__(self,student_id,student_roll_no):\n",
    "        self.student_id = student_id \n",
    "        self.student_roll = student_roll_no\n",
    "        print(\"Student class constructor executed\")\n",
    "        super().__init__(no_of_faculty=\"85\",no_of_department=9)\n",
    "        # super().testing()\n",
    "\n",
    "\n",
    "    def student_info(self):\n",
    "        print(self.student_id)\n",
    "        print(self.student_roll)\n",
    "\n",
    "    @classmethod \n",
    "    def student_display(cls):\n",
    "        print(cls.student_name)\n",
    "        print(cls.student_home_town) "
   ]
  },
  {
   "cell_type": "code",
   "execution_count": 35,
   "metadata": {},
   "outputs": [
    {
     "name": "stdout",
     "output_type": "stream",
     "text": [
      "Student class constructor executed\n",
      "college class constructor executed\n"
     ]
    }
   ],
   "source": [
    "st_obj = Student(student_id=\"01\",student_roll_no=786)"
   ]
  },
  {
   "cell_type": "code",
   "execution_count": 37,
   "metadata": {},
   "outputs": [
    {
     "name": "stdout",
     "output_type": "stream",
     "text": [
      "85\n",
      "9\n"
     ]
    }
   ],
   "source": [
    "st_obj.college_info()"
   ]
  }
 ],
 "metadata": {
  "kernelspec": {
   "display_name": "Python 3",
   "language": "python",
   "name": "python3"
  },
  "language_info": {
   "codemirror_mode": {
    "name": "ipython",
    "version": 3
   },
   "file_extension": ".py",
   "mimetype": "text/x-python",
   "name": "python",
   "nbconvert_exporter": "python",
   "pygments_lexer": "ipython3",
   "version": "3.12.4"
  }
 },
 "nbformat": 4,
 "nbformat_minor": 2
}
