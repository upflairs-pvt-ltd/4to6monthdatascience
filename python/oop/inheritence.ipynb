{
 "cells": [
  {
   "cell_type": "markdown",
   "metadata": {},
   "source": [
    "### single inheritence "
   ]
  },
  {
   "cell_type": "code",
   "execution_count": 10,
   "metadata": {},
   "outputs": [],
   "source": [
    "class College:\n",
    "    college_name = \"iet lucknow\"\n",
    "    college_city = \"lucknow\" \n",
    "\n",
    "class Student(College):\n",
    "    student_name = \"anshika\" \n",
    "    student_home_town = \"kota\" \n"
   ]
  },
  {
   "cell_type": "code",
   "execution_count": 11,
   "metadata": {},
   "outputs": [],
   "source": [
    "colleg_obj = College() \n",
    "Student_obj = Student()"
   ]
  },
  {
   "cell_type": "code",
   "execution_count": 12,
   "metadata": {},
   "outputs": [
    {
     "data": {
      "text/plain": [
       "'kota'"
      ]
     },
     "execution_count": 12,
     "metadata": {},
     "output_type": "execute_result"
    }
   ],
   "source": [
    "Student_obj.student_home_town"
   ]
  },
  {
   "cell_type": "code",
   "execution_count": 13,
   "metadata": {},
   "outputs": [
    {
     "data": {
      "text/plain": [
       "'iet lucknow'"
      ]
     },
     "execution_count": 13,
     "metadata": {},
     "output_type": "execute_result"
    }
   ],
   "source": [
    "Student_obj.college_name"
   ]
  },
  {
   "cell_type": "code",
   "execution_count": 14,
   "metadata": {},
   "outputs": [],
   "source": [
    "class College:\n",
    "    college_name = \"iet lucknow\"\n",
    "    college_city = \"lucknow\" \n",
    "\n",
    "    @classmethod \n",
    "    def college_display(cls):\n",
    "        print(cls.college_name)\n",
    "        print(cls.college_city)\n",
    "\n",
    "\n",
    "class Student(College):\n",
    "    student_name = \"anshika\" \n",
    "    student_home_town = \"kota\"\n",
    "\n",
    "    @classmethod \n",
    "    def student_display(cls):\n",
    "        print(cls.student_name)\n",
    "        print(cls.student_home_town) "
   ]
  },
  {
   "cell_type": "code",
   "execution_count": 15,
   "metadata": {},
   "outputs": [],
   "source": [
    "student_obj = Student()"
   ]
  },
  {
   "cell_type": "code",
   "execution_count": 16,
   "metadata": {},
   "outputs": [
    {
     "name": "stdout",
     "output_type": "stream",
     "text": [
      "anshika\n",
      "kota\n"
     ]
    }
   ],
   "source": [
    "student_obj.student_display()"
   ]
  },
  {
   "cell_type": "code",
   "execution_count": 17,
   "metadata": {},
   "outputs": [
    {
     "name": "stdout",
     "output_type": "stream",
     "text": [
      "iet lucknow\n",
      "lucknow\n"
     ]
    }
   ],
   "source": [
    "student_obj.college_display()"
   ]
  },
  {
   "cell_type": "markdown",
   "metadata": {},
   "source": [
    "### single inheritence with constructor"
   ]
  },
  {
   "cell_type": "code",
   "execution_count": 34,
   "metadata": {},
   "outputs": [],
   "source": [
    "class College:\n",
    "    college_name = \"iet lucknow\"\n",
    "    college_city = \"lucknow\" \n",
    "\n",
    "    def __init__(self,no_of_faculty,no_of_department):\n",
    "        self.no_of_faculty = no_of_faculty \n",
    "        self.no_of_department = no_of_department \n",
    "        print('college class constructor executed')\n",
    "\n",
    "    def college_info(self):\n",
    "        print(self.no_of_faculty)\n",
    "        print(self.no_of_department)\n",
    "\n",
    "    @classmethod \n",
    "    def college_display(cls):\n",
    "        print(cls.college_name)\n",
    "        print(cls.college_city)\n",
    "    \n",
    "    def testing(self):\n",
    "        print(\"hey i executed by the super method\")\n",
    "\n",
    "\n",
    "class Student(College):\n",
    "    student_name = \"anshika\" \n",
    "    student_home_town = \"kota\"\n",
    "    \n",
    "    def __init__(self,student_id,student_roll_no):\n",
    "        self.student_id = student_id \n",
    "        self.student_roll = student_roll_no\n",
    "        print(\"Student class constructor executed\")\n",
    "        super().__init__(no_of_faculty=\"85\",no_of_department=9)\n",
    "        # super().testing()\n",
    "\n",
    "\n",
    "    def student_info(self):\n",
    "        print(self.student_id)\n",
    "        print(self.student_roll)\n",
    "\n",
    "    @classmethod \n",
    "    def student_display(cls):\n",
    "        print(cls.student_name)\n",
    "        print(cls.student_home_town) "
   ]
  },
  {
   "cell_type": "code",
   "execution_count": 35,
   "metadata": {},
   "outputs": [
    {
     "name": "stdout",
     "output_type": "stream",
     "text": [
      "Student class constructor executed\n",
      "college class constructor executed\n"
     ]
    }
   ],
   "source": [
    "st_obj = Student(student_id=\"01\",student_roll_no=786)"
   ]
  },
  {
   "cell_type": "code",
   "execution_count": 37,
   "metadata": {},
   "outputs": [
    {
     "name": "stdout",
     "output_type": "stream",
     "text": [
      "85\n",
      "9\n"
     ]
    }
   ],
   "source": [
    "st_obj.college_info()"
   ]
  },
  {
   "cell_type": "markdown",
   "metadata": {},
   "source": [
    "### multilevel inheritence "
   ]
  },
  {
   "cell_type": "code",
   "execution_count": 33,
   "metadata": {},
   "outputs": [],
   "source": [
    "class GrandFather:\n",
    "    def __init__(self,grandpa_name,grandpa_age):\n",
    "        self.grandpa_name = grandpa_name \n",
    "        self.grandpa_age = grandpa_age\n",
    "        print(\"Grandpa class constructor executed!\")\n",
    "\n",
    "\n",
    "    def grandpa_hii(self):\n",
    "        print(\"GrandFather properties\")\n",
    "        print(\"Grandpa name : \",self.grandpa_name)\n",
    "        print(\"Grandpa age : \",self.grandpa_age)\n",
    "\n",
    "class Father(GrandFather):\n",
    "    def __init__(self, father_name,father_age,grandpa_name,grandpa_age):\n",
    "        self.father_name = father_name \n",
    "        self.father_age = father_age \n",
    "        super().__init__(grandpa_name=grandpa_name,grandpa_age=grandpa_age)\n",
    "        print(\"Father class constructor executed!\")\n",
    "\n",
    "\n",
    "    def father_hii(self):\n",
    "        print(\"Father properties\")\n",
    "        print(f\"father name : {self.father_name}\")\n",
    "        print(f\"father age : {self.father_age}\") \n",
    "\n",
    "class Child(Father):\n",
    "    def __init__(self,child_name,child_age,father_name,father_age,grandpa_name,grandpa_age):\n",
    "        self.child_name = child_name \n",
    "        self.child_age = child_age \n",
    "        super().__init__(father_name=father_name,father_age=father_age,grandpa_name=grandpa_name,grandpa_age=grandpa_age)\n",
    "        print(\"Child class constructor executed!\")\n",
    "\n",
    "    def child_hii(self):\n",
    "        print(\"child properties\")\n",
    "        print(f\"Child name : {self.child_name}\")\n",
    "        print(f\"Child age : {self.child_age}\")\n",
    "\n",
    "    def full_intro(self):\n",
    "        print(\"Hey this is from my side : \")\n",
    "        self.grandpa_hii()\n",
    "        print()\n",
    "        self.father_hii()\n",
    "        print()\n",
    "        self.child_hii()\n",
    "         "
   ]
  },
  {
   "cell_type": "code",
   "execution_count": 36,
   "metadata": {},
   "outputs": [
    {
     "data": {
      "text/plain": [
       "[__main__.GrandFather, object]"
      ]
     },
     "execution_count": 36,
     "metadata": {},
     "output_type": "execute_result"
    }
   ],
   "source": [
    "GrandFather.mro()"
   ]
  },
  {
   "cell_type": "code",
   "execution_count": 35,
   "metadata": {},
   "outputs": [
    {
     "data": {
      "text/plain": [
       "[__main__.Father, __main__.GrandFather, object]"
      ]
     },
     "execution_count": 35,
     "metadata": {},
     "output_type": "execute_result"
    }
   ],
   "source": [
    "Father.mro()"
   ]
  },
  {
   "cell_type": "code",
   "execution_count": 18,
   "metadata": {},
   "outputs": [
    {
     "name": "stdout",
     "output_type": "stream",
     "text": [
      "Grandpa class constructor executed!\n",
      "Father class constructor executed!\n",
      "Child class constructor executed!\n"
     ]
    }
   ],
   "source": [
    "child_obj = Child(child_name='rocky',child_age=19,father_name='dharm singh',father_age=45,grandpa_name='mohan singh',grandpa_age=65)"
   ]
  },
  {
   "cell_type": "code",
   "execution_count": 11,
   "metadata": {},
   "outputs": [
    {
     "name": "stdout",
     "output_type": "stream",
     "text": [
      "child properties\n",
      "Child name : rocky\n",
      "Child age : 19\n"
     ]
    }
   ],
   "source": [
    "child_obj.child_hii()"
   ]
  },
  {
   "cell_type": "code",
   "execution_count": 12,
   "metadata": {},
   "outputs": [
    {
     "name": "stdout",
     "output_type": "stream",
     "text": [
      "Father properties\n",
      "father name : dharm singh\n",
      "father age : 45\n"
     ]
    }
   ],
   "source": [
    "child_obj.father_hii()"
   ]
  },
  {
   "cell_type": "code",
   "execution_count": 13,
   "metadata": {},
   "outputs": [
    {
     "name": "stdout",
     "output_type": "stream",
     "text": [
      "GrandFather properties\n",
      "Grandpa name :  mohan singh\n",
      "Grandpa age :  65\n"
     ]
    }
   ],
   "source": [
    "child_obj.grandpa_hii()"
   ]
  },
  {
   "cell_type": "code",
   "execution_count": 19,
   "metadata": {},
   "outputs": [
    {
     "name": "stdout",
     "output_type": "stream",
     "text": [
      "Hey this is from my side : \n",
      "GrandFather properties\n",
      "Grandpa name :  mohan singh\n",
      "Grandpa age :  65\n",
      "\n",
      "Father properties\n",
      "father name : dharm singh\n",
      "father age : 45\n",
      "\n",
      "child properties\n",
      "Child name : rocky\n",
      "Child age : 19\n"
     ]
    }
   ],
   "source": [
    "child_obj.full_intro()"
   ]
  },
  {
   "cell_type": "markdown",
   "metadata": {},
   "source": [
    "## multiple inheritence"
   ]
  },
  {
   "cell_type": "code",
   "execution_count": 28,
   "metadata": {},
   "outputs": [],
   "source": [
    "class GrandFather:\n",
    "    def __init__(self,grandpa_name,grandpa_age):\n",
    "        self.grandpa_name = grandpa_name \n",
    "        self.grandpa_age = grandpa_age\n",
    "        print(\"Grandpa class constructor executed!\")\n",
    "\n",
    "\n",
    "    def grandpa_hii(self):\n",
    "        print(\"GrandFather properties\")\n",
    "        print(\"Grandpa name : \",self.grandpa_name)\n",
    "        print(\"Grandpa age : \",self.grandpa_age)\n",
    "\n",
    "class Father:\n",
    "    def __init__(self, father_name,father_age):\n",
    "        self.father_name = father_name \n",
    "        self.father_age = father_age \n",
    "        print(\"Father class constructor executed!\")\n",
    "\n",
    "\n",
    "    def father_hii(self):\n",
    "        print(\"Father properties\")\n",
    "        print(f\"father name : {self.father_name}\")\n",
    "        print(f\"father age : {self.father_age}\") \n",
    "\n",
    "class Child(GrandFather,Father):\n",
    "    def __init__(self,child_name,child_age,father_name,father_age,grandpa_name,grandpa_age):\n",
    "        self.child_name = child_name \n",
    "        self.child_age = child_age \n",
    "        GrandFather.__init__(self,grandpa_name=grandpa_name,grandpa_age=grandpa_age)\n",
    "        Father.__init__(self,father_name=father_name,father_age=father_age)\n",
    "\n",
    "\n",
    "        print(\"Child class constructor executed!\")\n",
    "\n",
    "    def child_hii(self):\n",
    "        print(\"child properties\")\n",
    "        print(f\"Child name : {self.child_name}\")\n",
    "        print(f\"Child age : {self.child_age}\")\n",
    "\n",
    "    def full_intro(self):\n",
    "        print(\"Hey this is from my side : \")\n",
    "        self.grandpa_hii()\n",
    "        print()\n",
    "        self.father_hii()\n",
    "        print()\n",
    "        self.child_hii()\n",
    "         "
   ]
  },
  {
   "cell_type": "code",
   "execution_count": 26,
   "metadata": {},
   "outputs": [
    {
     "name": "stdout",
     "output_type": "stream",
     "text": [
      "Grandpa class constructor executed!\n",
      "Father class constructor executed!\n",
      "Child class constructor executed!\n"
     ]
    }
   ],
   "source": [
    "child_obj = Child(child_name='rocky',child_age=19,father_name='dharm singh',father_age=45,grandpa_name='mohan singh',grandpa_age=65)"
   ]
  },
  {
   "cell_type": "code",
   "execution_count": 27,
   "metadata": {},
   "outputs": [
    {
     "name": "stdout",
     "output_type": "stream",
     "text": [
      "Hey this is from my side : \n",
      "GrandFather properties\n",
      "Grandpa name :  mohan singh\n",
      "Grandpa age :  65\n",
      "\n",
      "Father properties\n",
      "father name : dharm singh\n",
      "father age : 45\n",
      "\n",
      "child properties\n",
      "Child name : rocky\n",
      "Child age : 19\n"
     ]
    }
   ],
   "source": [
    "child_obj.full_intro()"
   ]
  },
  {
   "cell_type": "code",
   "execution_count": null,
   "metadata": {},
   "outputs": [],
   "source": [
    "m"
   ]
  },
  {
   "cell_type": "code",
   "execution_count": 30,
   "metadata": {},
   "outputs": [
    {
     "data": {
      "text/plain": [
       "[__main__.Child, __main__.GrandFather, __main__.Father, object]"
      ]
     },
     "execution_count": 30,
     "metadata": {},
     "output_type": "execute_result"
    }
   ],
   "source": [
    "Child.mro()"
   ]
  },
  {
   "cell_type": "code",
   "execution_count": 32,
   "metadata": {},
   "outputs": [],
   "source": [
    "# child_obj.test()"
   ]
  }
 ],
 "metadata": {
  "kernelspec": {
   "display_name": "Python 3",
   "language": "python",
   "name": "python3"
  },
  "language_info": {
   "codemirror_mode": {
    "name": "ipython",
    "version": 3
   },
   "file_extension": ".py",
   "mimetype": "text/x-python",
   "name": "python",
   "nbconvert_exporter": "python",
   "pygments_lexer": "ipython3",
   "version": "3.12.4"
  }
 },
 "nbformat": 4,
 "nbformat_minor": 2
}
