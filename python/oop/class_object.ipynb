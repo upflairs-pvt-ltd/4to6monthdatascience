{
 "cells": [
  {
   "cell_type": "code",
   "execution_count": 17,
   "metadata": {},
   "outputs": [],
   "source": [
    "class College:\n",
    "     no_of_students = 100 \n",
    "     student_name = \"anshika\"\n",
    "     student_roll_no = 101 \n",
    "     college_city = 'kota'\n",
    "     "
   ]
  },
  {
   "cell_type": "code",
   "execution_count": 14,
   "metadata": {},
   "outputs": [
    {
     "ename": "NameError",
     "evalue": "name 'no_of_students' is not defined",
     "output_type": "error",
     "traceback": [
      "\u001b[1;31m---------------------------------------------------------------------------\u001b[0m",
      "\u001b[1;31mNameError\u001b[0m                                 Traceback (most recent call last)",
      "Cell \u001b[1;32mIn[14], line 1\u001b[0m\n\u001b[1;32m----> 1\u001b[0m \u001b[38;5;28mprint\u001b[39m(\u001b[43mno_of_students\u001b[49m)\n",
      "\u001b[1;31mNameError\u001b[0m: name 'no_of_students' is not defined"
     ]
    }
   ],
   "source": [
    "print(no_of_students)"
   ]
  },
  {
   "cell_type": "code",
   "execution_count": 18,
   "metadata": {},
   "outputs": [
    {
     "name": "stdout",
     "output_type": "stream",
     "text": [
      "Instance is created!\n"
     ]
    }
   ],
   "source": [
    "## to create instance of a class \n",
    "obj = College()\n",
    "print('Instance is created!')"
   ]
  },
  {
   "cell_type": "code",
   "execution_count": 21,
   "metadata": {},
   "outputs": [
    {
     "name": "stdout",
     "output_type": "stream",
     "text": [
      "100\n"
     ]
    }
   ],
   "source": [
    "print(obj.no_of_students)"
   ]
  },
  {
   "cell_type": "code",
   "execution_count": 16,
   "metadata": {},
   "outputs": [
    {
     "data": {
      "text/plain": [
       "__main__.College"
      ]
     },
     "execution_count": 16,
     "metadata": {},
     "output_type": "execute_result"
    }
   ],
   "source": [
    "type(obj)"
   ]
  },
  {
   "cell_type": "code",
   "execution_count": 22,
   "metadata": {},
   "outputs": [
    {
     "name": "stdout",
     "output_type": "stream",
     "text": [
      "upflairs\n"
     ]
    }
   ],
   "source": [
    "name = \"upflairs\"\n",
    "print(name)\n"
   ]
  },
  {
   "cell_type": "code",
   "execution_count": 23,
   "metadata": {},
   "outputs": [
    {
     "data": {
      "text/plain": [
       "str"
      ]
     },
     "execution_count": 23,
     "metadata": {},
     "output_type": "execute_result"
    }
   ],
   "source": [
    "type(name)"
   ]
  },
  {
   "cell_type": "code",
   "execution_count": null,
   "metadata": {},
   "outputs": [],
   "source": [
    "studentname = str(\"anshika\")\n",
    "studentname = \"anshika\"\n"
   ]
  },
  {
   "cell_type": "code",
   "execution_count": 31,
   "metadata": {},
   "outputs": [
    {
     "data": {
      "text/plain": [
       "str"
      ]
     },
     "execution_count": 31,
     "metadata": {},
     "output_type": "execute_result"
    }
   ],
   "source": [
    "type(studentname)"
   ]
  },
  {
   "cell_type": "code",
   "execution_count": null,
   "metadata": {},
   "outputs": [],
   "source": [
    "# code oop "
   ]
  },
  {
   "cell_type": "code",
   "execution_count": null,
   "metadata": {},
   "outputs": [],
   "source": [
    "str , list "
   ]
  },
  {
   "cell_type": "code",
   "execution_count": 33,
   "metadata": {},
   "outputs": [],
   "source": [
    "class College:\n",
    "    # class variables \n",
    "     no_of_students = 100 \n",
    "     student_name = \"anshika\"\n",
    "     student_roll_no = 101 \n",
    "     college_city = 'kota'\n",
    "     "
   ]
  },
  {
   "cell_type": "code",
   "execution_count": null,
   "metadata": {},
   "outputs": [],
   "source": [
    "class variables: no need to create an object, you can access the class var, with the help of \n",
    "                class name itself, class variables will be available in a class. "
   ]
  },
  {
   "cell_type": "code",
   "execution_count": 36,
   "metadata": {},
   "outputs": [
    {
     "name": "stdout",
     "output_type": "stream",
     "text": [
      "anshika\n"
     ]
    }
   ],
   "source": [
    "\n",
    "print(College.student_name)"
   ]
  },
  {
   "cell_type": "code",
   "execution_count": null,
   "metadata": {},
   "outputs": [],
   "source": [
    "constructor: is a special kind of function, which is used to initialize the \n",
    "            variables,(instance variables ). and the constructor always create with \"__init__\" this name,\n",
    "            we dont need to call the constructor,"
   ]
  },
  {
   "cell_type": "code",
   "execution_count": 42,
   "metadata": {},
   "outputs": [],
   "source": [
    "# instance variable \n",
    "class College:\n",
    "    # class variables  \n",
    "    college_name = \"IET Lucknow\" \n",
    "    college_city = \"lucknow\" \n",
    "\n",
    "    # constructor  \n",
    "    def __init__(self):\n",
    "        #instance variables \n",
    "        self.student_name = \"anshika\"\n",
    "        self.student_city = \"kota\"\n",
    "        self.student_roll_no = 101 \n",
    "        self.student_branch = \"cse\" \n"
   ]
  },
  {
   "cell_type": "code",
   "execution_count": null,
   "metadata": {},
   "outputs": [
    {
     "ename": "AttributeError",
     "evalue": "type object 'College' has no attribute 'student_name'",
     "output_type": "error",
     "traceback": [
      "\u001b[1;31m---------------------------------------------------------------------------\u001b[0m",
      "\u001b[1;31mAttributeError\u001b[0m                            Traceback (most recent call last)",
      "Cell \u001b[1;32mIn[41], line 1\u001b[0m\n\u001b[1;32m----> 1\u001b[0m \u001b[43mCollege\u001b[49m\u001b[38;5;241;43m.\u001b[39;49m\u001b[43mstudent_name\u001b[49m\n",
      "\u001b[1;31mAttributeError\u001b[0m: type object 'College' has no attribute 'student_name'"
     ]
    }
   ],
   "source": [
    "# College.student_name  # we cant access instance var, by the class name "
   ]
  },
  {
   "cell_type": "code",
   "execution_count": 43,
   "metadata": {},
   "outputs": [],
   "source": [
    "obj = College()"
   ]
  },
  {
   "cell_type": "code",
   "execution_count": 44,
   "metadata": {},
   "outputs": [
    {
     "data": {
      "text/plain": [
       "'IET Lucknow'"
      ]
     },
     "execution_count": 44,
     "metadata": {},
     "output_type": "execute_result"
    }
   ],
   "source": [
    "obj.college_name"
   ]
  },
  {
   "cell_type": "code",
   "execution_count": 45,
   "metadata": {},
   "outputs": [
    {
     "data": {
      "text/plain": [
       "'anshika'"
      ]
     },
     "execution_count": 45,
     "metadata": {},
     "output_type": "execute_result"
    }
   ],
   "source": [
    "obj.student_name"
   ]
  },
  {
   "cell_type": "code",
   "execution_count": 52,
   "metadata": {},
   "outputs": [],
   "source": [
    "# instance variable \n",
    "class College:\n",
    "    # class variables  \n",
    "    college_name = \"IET Lucknow\" \n",
    "    college_city = \"lucknow\" \n",
    "\n",
    "    # constructor  \n",
    "    def __init__(self):\n",
    "        #instance variables \n",
    "        self.student_name = \"anshika\"\n",
    "        self.student_city = \"kota\"\n",
    "        self.student_roll_no = 101 \n",
    "        self.student_branch = \"cse\" \n",
    "        print(\"hey i am constructor, and i executed!\")\n"
   ]
  },
  {
   "cell_type": "code",
   "execution_count": 53,
   "metadata": {},
   "outputs": [
    {
     "name": "stdout",
     "output_type": "stream",
     "text": [
      "hey i am constructor, and i executed!\n",
      "hey i am constructor, and i executed!\n",
      "hey i am constructor, and i executed!\n"
     ]
    }
   ],
   "source": [
    "o1 = College()\n",
    "o2 = College()\n",
    "o3 = College()\n"
   ]
  },
  {
   "cell_type": "code",
   "execution_count": 55,
   "metadata": {},
   "outputs": [],
   "source": [
    "o1.student_name = 'AYUSH GUPTA'"
   ]
  },
  {
   "cell_type": "code",
   "execution_count": 56,
   "metadata": {},
   "outputs": [
    {
     "data": {
      "text/plain": [
       "'AYUSH GUPTA'"
      ]
     },
     "execution_count": 56,
     "metadata": {},
     "output_type": "execute_result"
    }
   ],
   "source": [
    "o1.student_name"
   ]
  },
  {
   "cell_type": "code",
   "execution_count": 57,
   "metadata": {},
   "outputs": [
    {
     "data": {
      "text/plain": [
       "'anshika'"
      ]
     },
     "execution_count": 57,
     "metadata": {},
     "output_type": "execute_result"
    }
   ],
   "source": [
    "o2.student_name"
   ]
  },
  {
   "cell_type": "code",
   "execution_count": 51,
   "metadata": {},
   "outputs": [
    {
     "data": {
      "text/plain": [
       "'anshika'"
      ]
     },
     "execution_count": 51,
     "metadata": {},
     "output_type": "execute_result"
    }
   ],
   "source": [
    "o2.student_name\n"
   ]
  },
  {
   "cell_type": "code",
   "execution_count": 1,
   "metadata": {},
   "outputs": [],
   "source": [
    "# instance variable \n",
    "class College:\n",
    "    # class variables  \n",
    "    college_name = \"IET Lucknow\" \n",
    "    college_city = \"lucknow\" \n",
    "\n",
    "    # constructor  \n",
    "    def __init__(self,name,city,roll_no,branch):\n",
    "        #instance variables \n",
    "        self.student_name = name\n",
    "        self.student_city = city\n",
    "        self.student_roll_no = roll_no\n",
    "        self.student_branch = branch\n",
    "        print(\"hey i am constructor, and i executed!\")\n"
   ]
  },
  {
   "cell_type": "code",
   "execution_count": 3,
   "metadata": {},
   "outputs": [
    {
     "name": "stdout",
     "output_type": "stream",
     "text": [
      "hey i am constructor, and i executed!\n"
     ]
    }
   ],
   "source": [
    "o1 = College(name=\"anshika\",city='kota',roll_no=101,branch='cse')"
   ]
  },
  {
   "cell_type": "code",
   "execution_count": 4,
   "metadata": {},
   "outputs": [
    {
     "name": "stdout",
     "output_type": "stream",
     "text": [
      "hey i am constructor, and i executed!\n"
     ]
    }
   ],
   "source": [
    "o2 = College(name='ayush',city='udaypur',roll_no=201,branch='it')"
   ]
  },
  {
   "cell_type": "code",
   "execution_count": 5,
   "metadata": {},
   "outputs": [
    {
     "name": "stdout",
     "output_type": "stream",
     "text": [
      "hey i am constructor, and i executed!\n"
     ]
    }
   ],
   "source": [
    "o3 = College(name='akshay',city='seekar',roll_no=301,branch='AI')\n"
   ]
  },
  {
   "cell_type": "code",
   "execution_count": 8,
   "metadata": {},
   "outputs": [
    {
     "data": {
      "text/plain": [
       "'akshay'"
      ]
     },
     "execution_count": 8,
     "metadata": {},
     "output_type": "execute_result"
    }
   ],
   "source": [
    "o3.student_name"
   ]
  },
  {
   "cell_type": "code",
   "execution_count": 10,
   "metadata": {},
   "outputs": [],
   "source": [
    "\n",
    "\n",
    "class Mobile: \n",
    "    def __init__(self,mobile_name,mobilePrice,mobilebrand):\n",
    "        self.mobile_name  = mobile_name\n",
    "        self.mobilePrice = mobilePrice \n",
    "        self.mobilebrand = mobilebrand \n",
    "\n",
    "obj = Mobile(mobile_name='samsung galaxy',mobilePrice=25000,mobilebrand='samsung')\n"
   ]
  },
  {
   "cell_type": "code",
   "execution_count": 13,
   "metadata": {},
   "outputs": [
    {
     "data": {
      "text/plain": [
       "'samsung'"
      ]
     },
     "execution_count": 13,
     "metadata": {},
     "output_type": "execute_result"
    }
   ],
   "source": [
    "obj.mobilebrand"
   ]
  },
  {
   "cell_type": "code",
   "execution_count": null,
   "metadata": {},
   "outputs": [],
   "source": [
    "## nested class \n",
    "class A: \n",
    "    def __init__(self):\n",
    "        self.outer_class_message = \"outer class A\"\n",
    "    \n",
    "    class B: \n",
    "        def __init__(self):\n",
    "            self.inner_class = \"inner class B\" \n",
    "       \n",
    "        class C:\n",
    "            def __init__(self):\n",
    "                self.last_class = \"last class\"\n"
   ]
  },
  {
   "cell_type": "code",
   "execution_count": 20,
   "metadata": {},
   "outputs": [],
   "source": [
    "obj_A = A()"
   ]
  },
  {
   "cell_type": "code",
   "execution_count": 21,
   "metadata": {},
   "outputs": [],
   "source": [
    "#  creating instance of a nested class \n",
    "obj_B = obj_A.B()"
   ]
  },
  {
   "cell_type": "code",
   "execution_count": 22,
   "metadata": {},
   "outputs": [],
   "source": [
    "obj_c = obj_B.C()"
   ]
  },
  {
   "cell_type": "code",
   "execution_count": 16,
   "metadata": {},
   "outputs": [
    {
     "data": {
      "text/plain": [
       "'outer class A'"
      ]
     },
     "execution_count": 16,
     "metadata": {},
     "output_type": "execute_result"
    }
   ],
   "source": [
    "obj_A.outer_class_message"
   ]
  },
  {
   "cell_type": "code",
   "execution_count": 17,
   "metadata": {},
   "outputs": [
    {
     "ename": "AttributeError",
     "evalue": "'A' object has no attribute 'inner_class'",
     "output_type": "error",
     "traceback": [
      "\u001b[1;31m---------------------------------------------------------------------------\u001b[0m",
      "\u001b[1;31mAttributeError\u001b[0m                            Traceback (most recent call last)",
      "Cell \u001b[1;32mIn[17], line 1\u001b[0m\n\u001b[1;32m----> 1\u001b[0m \u001b[43mobj_A\u001b[49m\u001b[38;5;241;43m.\u001b[39;49m\u001b[43minner_class\u001b[49m\n",
      "\u001b[1;31mAttributeError\u001b[0m: 'A' object has no attribute 'inner_class'"
     ]
    }
   ],
   "source": [
    "obj_A.inner_class"
   ]
  },
  {
   "cell_type": "code",
   "execution_count": 31,
   "metadata": {},
   "outputs": [
    {
     "data": {
      "text/plain": [
       "'rohit'"
      ]
     },
     "execution_count": 31,
     "metadata": {},
     "output_type": "execute_result"
    }
   ],
   "source": [
    "# class \n",
    "# class variables \n",
    "# instance variable \n",
    "# nested class \n",
    "\n",
    "class Student:\n",
    "    def __init__(self,name,roll_no,branch):\n",
    "        self.Student_name = name \n",
    "        self.student_roll = roll_no \n",
    "        self.student_branch  = branch\n",
    "        self.subjects = ['phsycis','math','chemistry','data science'] \n",
    "\n",
    "    def display(self):\n",
    "        print(self.Student_name)\n",
    "        print(self.student_roll)\n",
    "        print(self.student_branch)\n",
    "        print(\"No. of subjects : \",len(self.subjects))\n",
    "\n",
    "\n",
    "\n",
    "obj = Student(name=\"rohit\",roll_no='101',branch='cse') \n",
    "obj.Student_name"
   ]
  },
  {
   "cell_type": "code",
   "execution_count": 32,
   "metadata": {},
   "outputs": [
    {
     "name": "stdout",
     "output_type": "stream",
     "text": [
      "rohit\n",
      "101\n",
      "cse\n",
      "No. of subjects :  4\n"
     ]
    }
   ],
   "source": [
    "obj.display()"
   ]
  },
  {
   "cell_type": "code",
   "execution_count": null,
   "metadata": {},
   "outputs": [],
   "source": [
    "class Prectise:\n",
    "    def __init__(self):\n",
    "        self.student_marks = [25,36,32,34,37]\n",
    "    \n",
    "    def marks_average_calculator(self):\n",
    "        st_marks = self.student_marks \n",
    "        print(sum(st_marks)/len(st_marks))"
   ]
  },
  {
   "cell_type": "code",
   "execution_count": 34,
   "metadata": {},
   "outputs": [
    {
     "name": "stdout",
     "output_type": "stream",
     "text": [
      "32.8\n"
     ]
    }
   ],
   "source": [
    "obj = Prectise()\n",
    "obj.marks_average_calculator()"
   ]
  },
  {
   "cell_type": "code",
   "execution_count": 45,
   "metadata": {},
   "outputs": [],
   "source": [
    "class Prectise:\n",
    "    def __init__(self):\n",
    "        self.student_marks = [592, 695,  99, 276, 695, 684, 672, 154, 914, 994, 645, 594, 149,\n",
    "       666, 921,  89, 409, 419, 468, 160]\n",
    "\n",
    "    def average_even(self):\n",
    "        st_marks = self.student_marks\n",
    "        total_sum = 0 \n",
    "        count = 0 \n",
    "        for mark in st_marks:\n",
    "            if mark % 2 == 0:  \n",
    "                total_sum += mark \n",
    "                count += 1\n",
    "        average = total_sum/count\n",
    "        print(f\"your average is : {average:.2f}\")\n",
    "    "
   ]
  },
  {
   "cell_type": "code",
   "execution_count": 46,
   "metadata": {},
   "outputs": [
    {
     "name": "stdout",
     "output_type": "stream",
     "text": [
      "your average is : 561.27\n"
     ]
    }
   ],
   "source": [
    "obj = Prectise()\n",
    "obj.average_even()"
   ]
  },
  {
   "cell_type": "code",
   "execution_count": null,
   "metadata": {},
   "outputs": [],
   "source": [
    "class Prectise:\n",
    "    def __init__(self):\n",
    "        self.student_marks = [592, 695,  99, 276, 695, 684, 672, 154, 914, 994, 645, 594, 149,\n",
    "       666, 921,  89, 409, 419, 468, 160]"
   ]
  },
  {
   "cell_type": "code",
   "execution_count": 2,
   "metadata": {},
   "outputs": [],
   "source": [
    "class Student:\n",
    "    college = \"IET lucknow\" \n",
    "    college_city = \"lucknow\"\n",
    "\n",
    "    def __init__(self,name,roll_no,branch):\n",
    "        self.Student_name = name \n",
    "        self.student_roll = roll_no \n",
    "        self.student_branch  = branch\n",
    "        self.subjects = ['phsycis','math','chemistry','data science']  \n",
    "    \n",
    "    # instance method \n",
    "    def display(self):\n",
    "        print(self.Student_name)\n",
    "        print(self.student_branch)\n",
    "\n",
    "    #class method\n",
    "    @classmethod  \n",
    "    def display_college(cls):\n",
    "        print(cls.college)\n",
    "        print(cls.college_city) \n",
    "\n",
    "    "
   ]
  },
  {
   "cell_type": "code",
   "execution_count": 4,
   "metadata": {},
   "outputs": [],
   "source": [
    "o1 = Student(name='nikki',roll_no=1,branch='cse')"
   ]
  },
  {
   "cell_type": "code",
   "execution_count": 7,
   "metadata": {},
   "outputs": [
    {
     "name": "stdout",
     "output_type": "stream",
     "text": [
      "IET lucknow\n",
      "lucknow\n"
     ]
    }
   ],
   "source": [
    "Student.display_college()"
   ]
  },
  {
   "cell_type": "code",
   "execution_count": 9,
   "metadata": {},
   "outputs": [],
   "source": [
    "# Student.display()  "
   ]
  },
  {
   "cell_type": "code",
   "execution_count": 5,
   "metadata": {},
   "outputs": [
    {
     "name": "stdout",
     "output_type": "stream",
     "text": [
      "nikki\n",
      "cse\n"
     ]
    }
   ],
   "source": [
    "o1.display()"
   ]
  },
  {
   "cell_type": "code",
   "execution_count": 6,
   "metadata": {},
   "outputs": [
    {
     "name": "stdout",
     "output_type": "stream",
     "text": [
      "IET lucknow\n",
      "lucknow\n"
     ]
    }
   ],
   "source": [
    "o1.display_college()"
   ]
  },
  {
   "cell_type": "code",
   "execution_count": null,
   "metadata": {},
   "outputs": [],
   "source": [
    "class Student:\n",
    "    college = \"IET lucknow\" \n",
    "    college_city = \"lucknow\"\n",
    "\n",
    "    def __init__(self,name,roll_no,branch):\n",
    "        self.Student_name = name \n",
    "        self.student_roll = roll_no \n",
    "        self.student_branch  = branch\n",
    "        self.subjects = ['phsycis','math','chemistry','data science']  \n",
    "    \n",
    "    # instance method \n",
    "    def display(self):\n",
    "        print(self.Student_name)\n",
    "        print(self.student_branch)\n",
    "\n",
    "    #class method\n",
    "    @classmethod  \n",
    "    def display_college(cls):\n",
    "        test = \"successfull\" \n",
    "        print(test)\n",
    "        print(cls.college)\n",
    "        print(cls.college_city) \n",
    "\n",
    "    # static method \n",
    "    @staticmethod\n",
    "    def display():\n",
    "        name = \"radhey\"\n",
    "        age = 27 \n",
    "        print(name)\n",
    "        print(age)"
   ]
  },
  {
   "cell_type": "code",
   "execution_count": 16,
   "metadata": {},
   "outputs": [
    {
     "name": "stdout",
     "output_type": "stream",
     "text": [
      "radhey\n",
      "27\n"
     ]
    }
   ],
   "source": [
    "o1 = Student(name=\"nikki\",roll_no=101,branch='cse')\n",
    "o1.display()"
   ]
  },
  {
   "cell_type": "code",
   "execution_count": 18,
   "metadata": {},
   "outputs": [
    {
     "name": "stdout",
     "output_type": "stream",
     "text": [
      "successfull\n",
      "IET lucknow\n",
      "lucknow\n"
     ]
    }
   ],
   "source": [
    "o1.display_college()"
   ]
  },
  {
   "cell_type": "code",
   "execution_count": 13,
   "metadata": {},
   "outputs": [
    {
     "name": "stdout",
     "output_type": "stream",
     "text": [
      "radhey\n",
      "27\n"
     ]
    }
   ],
   "source": [
    "Student.display()  "
   ]
  },
  {
   "cell_type": "code",
   "execution_count": 14,
   "metadata": {},
   "outputs": [],
   "source": [
    "display()"
   ]
  },
  {
   "cell_type": "code",
   "execution_count": 25,
   "metadata": {},
   "outputs": [],
   "source": [
    "class Student:\n",
    "    college = \"IET lucknow\" \n",
    "    college_city = \"lucknow\"\n",
    "\n",
    "    def __init__(self,name,roll_no,branch):\n",
    "        self.Student_name = name \n",
    "        self.student_roll = roll_no \n",
    "        self.student_branch  = branch\n",
    "        self.subjects = ['phsycis','math','chemistry','data science']  \n",
    "    \n",
    "    # instance method \n",
    "    def display(radhey):\n",
    "        print(radhey.Student_name)\n",
    "        print(radhey.student_branch)\n",
    "\n",
    "            # instance method \n",
    "    @staticmethod    \n",
    "    def display():\n",
    "        print(Student_name)\n",
    "        print(student_branch)"
   ]
  },
  {
   "cell_type": "code",
   "execution_count": 26,
   "metadata": {},
   "outputs": [
    {
     "ename": "NameError",
     "evalue": "name 'Student_name' is not defined",
     "output_type": "error",
     "traceback": [
      "\u001b[1;31m---------------------------------------------------------------------------\u001b[0m",
      "\u001b[1;31mNameError\u001b[0m                                 Traceback (most recent call last)",
      "Cell \u001b[1;32mIn[26], line 2\u001b[0m\n\u001b[0;32m      1\u001b[0m o1 \u001b[38;5;241m=\u001b[39m Student(name\u001b[38;5;241m=\u001b[39m\u001b[38;5;124m\"\u001b[39m\u001b[38;5;124mnikki\u001b[39m\u001b[38;5;124m\"\u001b[39m,roll_no\u001b[38;5;241m=\u001b[39m\u001b[38;5;241m101\u001b[39m,branch\u001b[38;5;241m=\u001b[39m\u001b[38;5;124m'\u001b[39m\u001b[38;5;124mcse\u001b[39m\u001b[38;5;124m'\u001b[39m) \n\u001b[1;32m----> 2\u001b[0m \u001b[43mo1\u001b[49m\u001b[38;5;241;43m.\u001b[39;49m\u001b[43mdisplay\u001b[49m\u001b[43m(\u001b[49m\u001b[43m)\u001b[49m\n",
      "Cell \u001b[1;32mIn[25], line 19\u001b[0m, in \u001b[0;36mStudent.display\u001b[1;34m()\u001b[0m\n\u001b[0;32m     17\u001b[0m \u001b[38;5;129m@staticmethod\u001b[39m    \n\u001b[0;32m     18\u001b[0m \u001b[38;5;28;01mdef\u001b[39;00m \u001b[38;5;21mdisplay\u001b[39m():\n\u001b[1;32m---> 19\u001b[0m     \u001b[38;5;28mprint\u001b[39m(\u001b[43mStudent_name\u001b[49m)\n\u001b[0;32m     20\u001b[0m     \u001b[38;5;28mprint\u001b[39m(student_branch)\n",
      "\u001b[1;31mNameError\u001b[0m: name 'Student_name' is not defined"
     ]
    }
   ],
   "source": [
    "o1 = Student(name=\"nikki\",roll_no=101,branch='cse') \n",
    "o1.display()"
   ]
  },
  {
   "cell_type": "code",
   "execution_count": null,
   "metadata": {},
   "outputs": [],
   "source": [
    "# function and methods \n",
    "# wht is the purpose of self keywords?\n",
    "# can we remove or change the self keywords? "
   ]
  },
  {
   "cell_type": "code",
   "execution_count": null,
   "metadata": {},
   "outputs": [],
   "source": []
  },
  {
   "cell_type": "code",
   "execution_count": null,
   "metadata": {},
   "outputs": [],
   "source": []
  },
  {
   "cell_type": "code",
   "execution_count": null,
   "metadata": {},
   "outputs": [],
   "source": []
  }
 ],
 "metadata": {
  "kernelspec": {
   "display_name": "Python 3",
   "language": "python",
   "name": "python3"
  },
  "language_info": {
   "codemirror_mode": {
    "name": "ipython",
    "version": 3
   },
   "file_extension": ".py",
   "mimetype": "text/x-python",
   "name": "python",
   "nbconvert_exporter": "python",
   "pygments_lexer": "ipython3",
   "version": "3.12.4"
  }
 },
 "nbformat": 4,
 "nbformat_minor": 2
}
