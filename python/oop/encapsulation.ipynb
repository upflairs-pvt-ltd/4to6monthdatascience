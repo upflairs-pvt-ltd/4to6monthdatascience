{
 "cells": [
  {
   "cell_type": "markdown",
   "metadata": {},
   "source": [
    "#### encapsulation "
   ]
  },
  {
   "cell_type": "code",
   "execution_count": null,
   "metadata": {},
   "outputs": [],
   "source": [
    "data and method bundle into single unit \n",
    "variables \n",
    "method ()\n",
    "\n",
    "software 20 method atm machine \n",
    "10 authentication \n",
    "5 identification \n",
    "2 withdrawl \n",
    "1 balance check \n",
    "\n",
    "### variable type \n",
    "1. public variables \n",
    "2. protected variables \n",
    "3. private variables \n",
    "\n",
    "# methods public methods \n",
    "# private method \n",
    "# protected methods "
   ]
  },
  {
   "cell_type": "code",
   "execution_count": null,
   "metadata": {},
   "outputs": [],
   "source": [
    "class Student:\n",
    "    def __init__(self):\n",
    "        # public variables (within class and outside the class , sub class )\n",
    "        self.student_name = \"anshika\"\n",
    "        self.student_city = \"kota\"\n",
    "        # print(self.student_city)\n",
    "\n",
    "        # protected variables (within class and outside the class , sub class )\n",
    "        self._mobile_no = 64456464836 \n",
    "        self._student_id = \"ere654646498\"\n",
    "        # print(self._mobile_no)\n",
    "\n",
    "        #private variables  (within class accessible,not from outside,not in subclass)\n",
    "        self.__email_id = \"anshika@gmail.com\"\n",
    "        self.__password = \"anshika123456\"\n",
    "        # print(self.__password)\n",
    "\n",
    "\n",
    "        # public method \n",
    "        def display(self):\n",
    "            pass \n",
    "\n",
    "        def _display(self):\n",
    "            pass \n",
    "\n",
    "        def __display(self):\n",
    "            pass \n",
    "\n",
    "\n",
    "class Temp(Student):\n",
    "    def __init__(self):\n",
    "        self.temp_info = \"testing\"\n",
    "        super().__init__()\n",
    "        # print(self._mobile_no)\n",
    "        print(self.__password)\n",
    "\n"
   ]
  },
  {
   "cell_type": "code",
   "execution_count": 32,
   "metadata": {},
   "outputs": [],
   "source": [
    "obj = Student()\n"
   ]
  },
  {
   "cell_type": "code",
   "execution_count": 36,
   "metadata": {},
   "outputs": [
    {
     "data": {
      "text/plain": [
       "'ere654646498'"
      ]
     },
     "execution_count": 36,
     "metadata": {},
     "output_type": "execute_result"
    }
   ],
   "source": [
    "obj._student_id"
   ]
  },
  {
   "cell_type": "code",
   "execution_count": 37,
   "metadata": {},
   "outputs": [],
   "source": [
    "### Name mangling "
   ]
  },
  {
   "cell_type": "code",
   "execution_count": 38,
   "metadata": {},
   "outputs": [],
   "source": [
    "class Student:\n",
    "    def __init__(self):\n",
    "        # public variables (within class and outside the class , sub class )\n",
    "        self.student_name = \"anshika\"\n",
    "        self.student_city = \"kota\"\n",
    "        # print(self.student_city)\n",
    "\n",
    "        # protected variables (within class and outside the class , sub class )\n",
    "        self._mobile_no = 64456464836 \n",
    "        self._student_id = \"ere654646498\"\n",
    "        # print(self._mobile_no)\n",
    "\n",
    "        #private variables  (within class accessible,not from outside,not in subclass)\n",
    "        self.__email_id = \"anshika@gmail.com\"\n",
    "        self.__password = \"anshika123456\"\n",
    "        # print(self.__password)"
   ]
  },
  {
   "cell_type": "code",
   "execution_count": 43,
   "metadata": {},
   "outputs": [
    {
     "data": {
      "text/plain": [
       "{'student_name': 'anshika',\n",
       " 'student_city': 'kota',\n",
       " '_mobile_no': 64456464836,\n",
       " '_student_id': 'ere654646498',\n",
       " '_Student__email_id': 'anshika@gmail.com',\n",
       " '_Student__password': 'anshika123456'}"
      ]
     },
     "execution_count": 43,
     "metadata": {},
     "output_type": "execute_result"
    }
   ],
   "source": [
    "st = Student()\n",
    "st.__dict__"
   ]
  },
  {
   "cell_type": "code",
   "execution_count": 45,
   "metadata": {},
   "outputs": [
    {
     "data": {
      "text/plain": [
       "'anshika123456'"
      ]
     },
     "execution_count": 45,
     "metadata": {},
     "output_type": "execute_result"
    }
   ],
   "source": [
    "st._Student__password"
   ]
  },
  {
   "cell_type": "code",
   "execution_count": null,
   "metadata": {},
   "outputs": [],
   "source": []
  }
 ],
 "metadata": {
  "kernelspec": {
   "display_name": "Python 3",
   "language": "python",
   "name": "python3"
  },
  "language_info": {
   "codemirror_mode": {
    "name": "ipython",
    "version": 3
   },
   "file_extension": ".py",
   "mimetype": "text/x-python",
   "name": "python",
   "nbconvert_exporter": "python",
   "pygments_lexer": "ipython3",
   "version": "3.12.4"
  }
 },
 "nbformat": 4,
 "nbformat_minor": 2
}
